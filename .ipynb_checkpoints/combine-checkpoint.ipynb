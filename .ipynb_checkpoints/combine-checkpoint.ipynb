{
 "cells": [
  {
   "cell_type": "code",
   "execution_count": 1,
   "metadata": {},
   "outputs": [],
   "source": [
    "import os\n",
    "import pandas as pd"
   ]
  },
  {
   "cell_type": "code",
   "execution_count": 2,
   "metadata": {},
   "outputs": [],
   "source": [
    "# Import support data to normalize country name"
   ]
  },
  {
   "cell_type": "code",
   "execution_count": 3,
   "metadata": {},
   "outputs": [],
   "source": [
    "datajan22= pd.read_csv('resources/csse_covid_19_data/csse_covid_19_daily_reports/01-22-2020.csv', encoding='utf8')\n",
    "datajan23 = pd.read_csv('resources/csse_covid_19_data/csse_covid_19_daily_reports/01-23-2020.csv', encoding='utf8')\n",
    "datajan24 = pd.read_csv('resources/csse_covid_19_data/csse_covid_19_daily_reports/01-24-2020.csv', encoding='utf8')\n",
    "datajan25 = pd.read_csv('resources/csse_covid_19_data/csse_covid_19_daily_reports/01-25-2020.csv', encoding='utf8')\n",
    "datajan26 = pd.read_csv('resources/csse_covid_19_data/csse_covid_19_daily_reports/01-26-2020.csv', encoding='utf8')\n",
    "datajan27 = pd.read_csv('resources/csse_covid_19_data/csse_covid_19_daily_reports/01-27-2020.csv', encoding='utf8')\n",
    "datajan28 = pd.read_csv('resources/csse_covid_19_data/csse_covid_19_daily_reports/01-28-2020.csv', encoding='utf8')\n",
    "datajan29 = pd.read_csv('resources/csse_covid_19_data/csse_covid_19_daily_reports/01-29-2020.csv', encoding='utf8')\n",
    "datajan30 = pd.read_csv('resources/csse_covid_19_data/csse_covid_19_daily_reports/01-30-2020.csv', encoding='utf8')\n",
    "datajan24 = pd.read_csv('resources/csse_covid_19_data/csse_covid_19_daily_reports/01-24-2020.csv', encoding='utf8')"
   ]
  },
  {
   "cell_type": "code",
   "execution_count": 4,
   "metadata": {},
   "outputs": [
    {
     "data": {
      "text/html": [
       "<div>\n",
       "<style scoped>\n",
       "    .dataframe tbody tr th:only-of-type {\n",
       "        vertical-align: middle;\n",
       "    }\n",
       "\n",
       "    .dataframe tbody tr th {\n",
       "        vertical-align: top;\n",
       "    }\n",
       "\n",
       "    .dataframe thead th {\n",
       "        text-align: right;\n",
       "    }\n",
       "</style>\n",
       "<table border=\"1\" class=\"dataframe\">\n",
       "  <thead>\n",
       "    <tr style=\"text-align: right;\">\n",
       "      <th></th>\n",
       "      <th>Province/State</th>\n",
       "      <th>Country/Region</th>\n",
       "      <th>Last Update</th>\n",
       "      <th>Confirmed</th>\n",
       "      <th>Deaths</th>\n",
       "      <th>Recovered</th>\n",
       "    </tr>\n",
       "  </thead>\n",
       "  <tbody>\n",
       "    <tr>\n",
       "      <td>0</td>\n",
       "      <td>Anhui</td>\n",
       "      <td>Mainland China</td>\n",
       "      <td>1/22/2020 17:00</td>\n",
       "      <td>1.0</td>\n",
       "      <td>NaN</td>\n",
       "      <td>NaN</td>\n",
       "    </tr>\n",
       "    <tr>\n",
       "      <td>1</td>\n",
       "      <td>Beijing</td>\n",
       "      <td>Mainland China</td>\n",
       "      <td>1/22/2020 17:00</td>\n",
       "      <td>14.0</td>\n",
       "      <td>NaN</td>\n",
       "      <td>NaN</td>\n",
       "    </tr>\n",
       "    <tr>\n",
       "      <td>2</td>\n",
       "      <td>Chongqing</td>\n",
       "      <td>Mainland China</td>\n",
       "      <td>1/22/2020 17:00</td>\n",
       "      <td>6.0</td>\n",
       "      <td>NaN</td>\n",
       "      <td>NaN</td>\n",
       "    </tr>\n",
       "    <tr>\n",
       "      <td>3</td>\n",
       "      <td>Fujian</td>\n",
       "      <td>Mainland China</td>\n",
       "      <td>1/22/2020 17:00</td>\n",
       "      <td>1.0</td>\n",
       "      <td>NaN</td>\n",
       "      <td>NaN</td>\n",
       "    </tr>\n",
       "    <tr>\n",
       "      <td>4</td>\n",
       "      <td>Gansu</td>\n",
       "      <td>Mainland China</td>\n",
       "      <td>1/22/2020 17:00</td>\n",
       "      <td>NaN</td>\n",
       "      <td>NaN</td>\n",
       "      <td>NaN</td>\n",
       "    </tr>\n",
       "    <tr>\n",
       "      <td>5</td>\n",
       "      <td>Guangdong</td>\n",
       "      <td>Mainland China</td>\n",
       "      <td>1/22/2020 17:00</td>\n",
       "      <td>26.0</td>\n",
       "      <td>NaN</td>\n",
       "      <td>NaN</td>\n",
       "    </tr>\n",
       "    <tr>\n",
       "      <td>6</td>\n",
       "      <td>Guangxi</td>\n",
       "      <td>Mainland China</td>\n",
       "      <td>1/22/2020 17:00</td>\n",
       "      <td>2.0</td>\n",
       "      <td>NaN</td>\n",
       "      <td>NaN</td>\n",
       "    </tr>\n",
       "    <tr>\n",
       "      <td>7</td>\n",
       "      <td>Guizhou</td>\n",
       "      <td>Mainland China</td>\n",
       "      <td>1/22/2020 17:00</td>\n",
       "      <td>1.0</td>\n",
       "      <td>NaN</td>\n",
       "      <td>NaN</td>\n",
       "    </tr>\n",
       "    <tr>\n",
       "      <td>8</td>\n",
       "      <td>Hainan</td>\n",
       "      <td>Mainland China</td>\n",
       "      <td>1/22/2020 17:00</td>\n",
       "      <td>4.0</td>\n",
       "      <td>NaN</td>\n",
       "      <td>NaN</td>\n",
       "    </tr>\n",
       "    <tr>\n",
       "      <td>9</td>\n",
       "      <td>Hebei</td>\n",
       "      <td>Mainland China</td>\n",
       "      <td>1/22/2020 17:00</td>\n",
       "      <td>1.0</td>\n",
       "      <td>NaN</td>\n",
       "      <td>NaN</td>\n",
       "    </tr>\n",
       "    <tr>\n",
       "      <td>10</td>\n",
       "      <td>Heilongjiang</td>\n",
       "      <td>Mainland China</td>\n",
       "      <td>1/22/2020 17:00</td>\n",
       "      <td>NaN</td>\n",
       "      <td>NaN</td>\n",
       "      <td>NaN</td>\n",
       "    </tr>\n",
       "    <tr>\n",
       "      <td>11</td>\n",
       "      <td>Henan</td>\n",
       "      <td>Mainland China</td>\n",
       "      <td>1/22/2020 17:00</td>\n",
       "      <td>5.0</td>\n",
       "      <td>NaN</td>\n",
       "      <td>NaN</td>\n",
       "    </tr>\n",
       "    <tr>\n",
       "      <td>12</td>\n",
       "      <td>Hong Kong</td>\n",
       "      <td>Hong Kong</td>\n",
       "      <td>1/22/2020 17:00</td>\n",
       "      <td>NaN</td>\n",
       "      <td>NaN</td>\n",
       "      <td>NaN</td>\n",
       "    </tr>\n",
       "    <tr>\n",
       "      <td>13</td>\n",
       "      <td>Hubei</td>\n",
       "      <td>Mainland China</td>\n",
       "      <td>1/22/2020 17:00</td>\n",
       "      <td>444.0</td>\n",
       "      <td>17.0</td>\n",
       "      <td>28.0</td>\n",
       "    </tr>\n",
       "    <tr>\n",
       "      <td>14</td>\n",
       "      <td>Hunan</td>\n",
       "      <td>Mainland China</td>\n",
       "      <td>1/22/2020 17:00</td>\n",
       "      <td>4.0</td>\n",
       "      <td>NaN</td>\n",
       "      <td>NaN</td>\n",
       "    </tr>\n",
       "    <tr>\n",
       "      <td>15</td>\n",
       "      <td>Inner Mongolia</td>\n",
       "      <td>Mainland China</td>\n",
       "      <td>1/22/2020 17:00</td>\n",
       "      <td>NaN</td>\n",
       "      <td>NaN</td>\n",
       "      <td>NaN</td>\n",
       "    </tr>\n",
       "    <tr>\n",
       "      <td>16</td>\n",
       "      <td>Jiangsu</td>\n",
       "      <td>Mainland China</td>\n",
       "      <td>1/22/2020 17:00</td>\n",
       "      <td>1.0</td>\n",
       "      <td>NaN</td>\n",
       "      <td>NaN</td>\n",
       "    </tr>\n",
       "    <tr>\n",
       "      <td>17</td>\n",
       "      <td>Jiangxi</td>\n",
       "      <td>Mainland China</td>\n",
       "      <td>1/22/2020 17:00</td>\n",
       "      <td>2.0</td>\n",
       "      <td>NaN</td>\n",
       "      <td>NaN</td>\n",
       "    </tr>\n",
       "    <tr>\n",
       "      <td>18</td>\n",
       "      <td>Jilin</td>\n",
       "      <td>Mainland China</td>\n",
       "      <td>1/22/2020 17:00</td>\n",
       "      <td>NaN</td>\n",
       "      <td>NaN</td>\n",
       "      <td>NaN</td>\n",
       "    </tr>\n",
       "    <tr>\n",
       "      <td>19</td>\n",
       "      <td>Liaoning</td>\n",
       "      <td>Mainland China</td>\n",
       "      <td>1/22/2020 17:00</td>\n",
       "      <td>2.0</td>\n",
       "      <td>NaN</td>\n",
       "      <td>NaN</td>\n",
       "    </tr>\n",
       "    <tr>\n",
       "      <td>20</td>\n",
       "      <td>Macau</td>\n",
       "      <td>Macau</td>\n",
       "      <td>1/22/2020 17:00</td>\n",
       "      <td>1.0</td>\n",
       "      <td>NaN</td>\n",
       "      <td>NaN</td>\n",
       "    </tr>\n",
       "    <tr>\n",
       "      <td>21</td>\n",
       "      <td>Ningxia</td>\n",
       "      <td>Mainland China</td>\n",
       "      <td>1/22/2020 17:00</td>\n",
       "      <td>1.0</td>\n",
       "      <td>NaN</td>\n",
       "      <td>NaN</td>\n",
       "    </tr>\n",
       "    <tr>\n",
       "      <td>22</td>\n",
       "      <td>Qinghai</td>\n",
       "      <td>Mainland China</td>\n",
       "      <td>1/22/2020 17:00</td>\n",
       "      <td>NaN</td>\n",
       "      <td>NaN</td>\n",
       "      <td>NaN</td>\n",
       "    </tr>\n",
       "    <tr>\n",
       "      <td>23</td>\n",
       "      <td>Shaanxi</td>\n",
       "      <td>Mainland China</td>\n",
       "      <td>1/22/2020 17:00</td>\n",
       "      <td>NaN</td>\n",
       "      <td>NaN</td>\n",
       "      <td>NaN</td>\n",
       "    </tr>\n",
       "    <tr>\n",
       "      <td>24</td>\n",
       "      <td>Shandong</td>\n",
       "      <td>Mainland China</td>\n",
       "      <td>1/22/2020 17:00</td>\n",
       "      <td>2.0</td>\n",
       "      <td>NaN</td>\n",
       "      <td>NaN</td>\n",
       "    </tr>\n",
       "    <tr>\n",
       "      <td>25</td>\n",
       "      <td>Shanghai</td>\n",
       "      <td>Mainland China</td>\n",
       "      <td>1/22/2020 17:00</td>\n",
       "      <td>9.0</td>\n",
       "      <td>NaN</td>\n",
       "      <td>NaN</td>\n",
       "    </tr>\n",
       "    <tr>\n",
       "      <td>26</td>\n",
       "      <td>Shanxi</td>\n",
       "      <td>Mainland China</td>\n",
       "      <td>1/22/2020 17:00</td>\n",
       "      <td>1.0</td>\n",
       "      <td>NaN</td>\n",
       "      <td>NaN</td>\n",
       "    </tr>\n",
       "    <tr>\n",
       "      <td>27</td>\n",
       "      <td>Sichuan</td>\n",
       "      <td>Mainland China</td>\n",
       "      <td>1/22/2020 17:00</td>\n",
       "      <td>5.0</td>\n",
       "      <td>NaN</td>\n",
       "      <td>NaN</td>\n",
       "    </tr>\n",
       "    <tr>\n",
       "      <td>28</td>\n",
       "      <td>Taiwan</td>\n",
       "      <td>Taiwan</td>\n",
       "      <td>1/22/2020 17:00</td>\n",
       "      <td>1.0</td>\n",
       "      <td>NaN</td>\n",
       "      <td>NaN</td>\n",
       "    </tr>\n",
       "    <tr>\n",
       "      <td>29</td>\n",
       "      <td>Tianjin</td>\n",
       "      <td>Mainland China</td>\n",
       "      <td>1/22/2020 17:00</td>\n",
       "      <td>4.0</td>\n",
       "      <td>NaN</td>\n",
       "      <td>NaN</td>\n",
       "    </tr>\n",
       "    <tr>\n",
       "      <td>30</td>\n",
       "      <td>Tibet</td>\n",
       "      <td>Mainland China</td>\n",
       "      <td>1/22/2020 17:00</td>\n",
       "      <td>NaN</td>\n",
       "      <td>NaN</td>\n",
       "      <td>NaN</td>\n",
       "    </tr>\n",
       "    <tr>\n",
       "      <td>31</td>\n",
       "      <td>Washington</td>\n",
       "      <td>US</td>\n",
       "      <td>1/22/2020 17:00</td>\n",
       "      <td>1.0</td>\n",
       "      <td>NaN</td>\n",
       "      <td>NaN</td>\n",
       "    </tr>\n",
       "    <tr>\n",
       "      <td>32</td>\n",
       "      <td>Xinjiang</td>\n",
       "      <td>Mainland China</td>\n",
       "      <td>1/22/2020 17:00</td>\n",
       "      <td>NaN</td>\n",
       "      <td>NaN</td>\n",
       "      <td>NaN</td>\n",
       "    </tr>\n",
       "    <tr>\n",
       "      <td>33</td>\n",
       "      <td>Yunnan</td>\n",
       "      <td>Mainland China</td>\n",
       "      <td>1/22/2020 17:00</td>\n",
       "      <td>1.0</td>\n",
       "      <td>NaN</td>\n",
       "      <td>NaN</td>\n",
       "    </tr>\n",
       "    <tr>\n",
       "      <td>34</td>\n",
       "      <td>Zhejiang</td>\n",
       "      <td>Mainland China</td>\n",
       "      <td>1/22/2020 17:00</td>\n",
       "      <td>10.0</td>\n",
       "      <td>NaN</td>\n",
       "      <td>NaN</td>\n",
       "    </tr>\n",
       "    <tr>\n",
       "      <td>35</td>\n",
       "      <td>NaN</td>\n",
       "      <td>Japan</td>\n",
       "      <td>1/22/2020 17:00</td>\n",
       "      <td>2.0</td>\n",
       "      <td>NaN</td>\n",
       "      <td>NaN</td>\n",
       "    </tr>\n",
       "    <tr>\n",
       "      <td>36</td>\n",
       "      <td>NaN</td>\n",
       "      <td>Thailand</td>\n",
       "      <td>1/22/2020 17:00</td>\n",
       "      <td>2.0</td>\n",
       "      <td>NaN</td>\n",
       "      <td>NaN</td>\n",
       "    </tr>\n",
       "    <tr>\n",
       "      <td>37</td>\n",
       "      <td>NaN</td>\n",
       "      <td>South Korea</td>\n",
       "      <td>1/22/2020 17:00</td>\n",
       "      <td>1.0</td>\n",
       "      <td>NaN</td>\n",
       "      <td>NaN</td>\n",
       "    </tr>\n",
       "  </tbody>\n",
       "</table>\n",
       "</div>"
      ],
      "text/plain": [
       "    Province/State  Country/Region      Last Update  Confirmed  Deaths  \\\n",
       "0            Anhui  Mainland China  1/22/2020 17:00        1.0     NaN   \n",
       "1          Beijing  Mainland China  1/22/2020 17:00       14.0     NaN   \n",
       "2        Chongqing  Mainland China  1/22/2020 17:00        6.0     NaN   \n",
       "3           Fujian  Mainland China  1/22/2020 17:00        1.0     NaN   \n",
       "4            Gansu  Mainland China  1/22/2020 17:00        NaN     NaN   \n",
       "5        Guangdong  Mainland China  1/22/2020 17:00       26.0     NaN   \n",
       "6          Guangxi  Mainland China  1/22/2020 17:00        2.0     NaN   \n",
       "7          Guizhou  Mainland China  1/22/2020 17:00        1.0     NaN   \n",
       "8           Hainan  Mainland China  1/22/2020 17:00        4.0     NaN   \n",
       "9            Hebei  Mainland China  1/22/2020 17:00        1.0     NaN   \n",
       "10    Heilongjiang  Mainland China  1/22/2020 17:00        NaN     NaN   \n",
       "11           Henan  Mainland China  1/22/2020 17:00        5.0     NaN   \n",
       "12       Hong Kong       Hong Kong  1/22/2020 17:00        NaN     NaN   \n",
       "13           Hubei  Mainland China  1/22/2020 17:00      444.0    17.0   \n",
       "14           Hunan  Mainland China  1/22/2020 17:00        4.0     NaN   \n",
       "15  Inner Mongolia  Mainland China  1/22/2020 17:00        NaN     NaN   \n",
       "16         Jiangsu  Mainland China  1/22/2020 17:00        1.0     NaN   \n",
       "17         Jiangxi  Mainland China  1/22/2020 17:00        2.0     NaN   \n",
       "18           Jilin  Mainland China  1/22/2020 17:00        NaN     NaN   \n",
       "19        Liaoning  Mainland China  1/22/2020 17:00        2.0     NaN   \n",
       "20           Macau           Macau  1/22/2020 17:00        1.0     NaN   \n",
       "21         Ningxia  Mainland China  1/22/2020 17:00        1.0     NaN   \n",
       "22         Qinghai  Mainland China  1/22/2020 17:00        NaN     NaN   \n",
       "23         Shaanxi  Mainland China  1/22/2020 17:00        NaN     NaN   \n",
       "24        Shandong  Mainland China  1/22/2020 17:00        2.0     NaN   \n",
       "25        Shanghai  Mainland China  1/22/2020 17:00        9.0     NaN   \n",
       "26          Shanxi  Mainland China  1/22/2020 17:00        1.0     NaN   \n",
       "27         Sichuan  Mainland China  1/22/2020 17:00        5.0     NaN   \n",
       "28          Taiwan          Taiwan  1/22/2020 17:00        1.0     NaN   \n",
       "29         Tianjin  Mainland China  1/22/2020 17:00        4.0     NaN   \n",
       "30           Tibet  Mainland China  1/22/2020 17:00        NaN     NaN   \n",
       "31      Washington              US  1/22/2020 17:00        1.0     NaN   \n",
       "32        Xinjiang  Mainland China  1/22/2020 17:00        NaN     NaN   \n",
       "33          Yunnan  Mainland China  1/22/2020 17:00        1.0     NaN   \n",
       "34        Zhejiang  Mainland China  1/22/2020 17:00       10.0     NaN   \n",
       "35             NaN           Japan  1/22/2020 17:00        2.0     NaN   \n",
       "36             NaN        Thailand  1/22/2020 17:00        2.0     NaN   \n",
       "37             NaN     South Korea  1/22/2020 17:00        1.0     NaN   \n",
       "\n",
       "    Recovered  \n",
       "0         NaN  \n",
       "1         NaN  \n",
       "2         NaN  \n",
       "3         NaN  \n",
       "4         NaN  \n",
       "5         NaN  \n",
       "6         NaN  \n",
       "7         NaN  \n",
       "8         NaN  \n",
       "9         NaN  \n",
       "10        NaN  \n",
       "11        NaN  \n",
       "12        NaN  \n",
       "13       28.0  \n",
       "14        NaN  \n",
       "15        NaN  \n",
       "16        NaN  \n",
       "17        NaN  \n",
       "18        NaN  \n",
       "19        NaN  \n",
       "20        NaN  \n",
       "21        NaN  \n",
       "22        NaN  \n",
       "23        NaN  \n",
       "24        NaN  \n",
       "25        NaN  \n",
       "26        NaN  \n",
       "27        NaN  \n",
       "28        NaN  \n",
       "29        NaN  \n",
       "30        NaN  \n",
       "31        NaN  \n",
       "32        NaN  \n",
       "33        NaN  \n",
       "34        NaN  \n",
       "35        NaN  \n",
       "36        NaN  \n",
       "37        NaN  "
      ]
     },
     "execution_count": 4,
     "metadata": {},
     "output_type": "execute_result"
    }
   ],
   "source": [
    "data22"
   ]
  },
  {
   "cell_type": "code",
   "execution_count": 4,
   "metadata": {},
   "outputs": [],
   "source": [
    "#df_province = df_province.fillna(' ')"
   ]
  },
  {
   "cell_type": "code",
   "execution_count": 5,
   "metadata": {},
   "outputs": [],
   "source": [
    "# Import group of data without lat / Lon columns"
   ]
  },
  {
   "cell_type": "code",
   "execution_count": 6,
   "metadata": {},
   "outputs": [],
   "source": [
    "baseFolder = 'resources/csse_covid_19_data/csse_covid_19_daily_reports/01-22-2020.csv'"
   ]
  },
  {
   "cell_type": "code",
   "execution_count": 7,
   "metadata": {},
   "outputs": [],
   "source": [
    "df_list = []\n",
    "for root, dirs, files in os.walk(baseFolder):\n",
    "    for nm in files:\n",
    "        thefile = os.path.join(root, nm)\n",
    "        df = pd.read_csv(thefile)\n",
    "        df['Date'] = nm.split('.')[0]\n",
    "\n",
    "        df_list.append(df)\n",
    "\n",
    "df_results_1 = pd.concat(df_list)"
   ]
  },
  {
   "cell_type": "code",
   "execution_count": 8,
   "metadata": {},
   "outputs": [],
   "source": [
    "#df_results_1 = df_results_1.fillna(' ')"
   ]
  },
  {
   "cell_type": "code",
   "execution_count": 9,
   "metadata": {},
   "outputs": [
    {
     "data": {
      "text/html": [
       "<div>\n",
       "<style scoped>\n",
       "    .dataframe tbody tr th:only-of-type {\n",
       "        vertical-align: middle;\n",
       "    }\n",
       "\n",
       "    .dataframe tbody tr th {\n",
       "        vertical-align: top;\n",
       "    }\n",
       "\n",
       "    .dataframe thead th {\n",
       "        text-align: right;\n",
       "    }\n",
       "</style>\n",
       "<table border=\"1\" class=\"dataframe\">\n",
       "  <thead>\n",
       "    <tr style=\"text-align: right;\">\n",
       "      <th></th>\n",
       "      <th>Province/State</th>\n",
       "      <th>Country/Region</th>\n",
       "      <th>Last Update</th>\n",
       "      <th>Confirmed</th>\n",
       "      <th>Deaths</th>\n",
       "      <th>Recovered</th>\n",
       "      <th>Date</th>\n",
       "    </tr>\n",
       "  </thead>\n",
       "  <tbody>\n",
       "    <tr>\n",
       "      <td>0</td>\n",
       "      <td>Anhui</td>\n",
       "      <td>Mainland China</td>\n",
       "      <td>1/22/2020 17:00</td>\n",
       "      <td>1.0</td>\n",
       "      <td>NaN</td>\n",
       "      <td>NaN</td>\n",
       "      <td>01-22-2020</td>\n",
       "    </tr>\n",
       "    <tr>\n",
       "      <td>1</td>\n",
       "      <td>Beijing</td>\n",
       "      <td>Mainland China</td>\n",
       "      <td>1/22/2020 17:00</td>\n",
       "      <td>14.0</td>\n",
       "      <td>NaN</td>\n",
       "      <td>NaN</td>\n",
       "      <td>01-22-2020</td>\n",
       "    </tr>\n",
       "    <tr>\n",
       "      <td>2</td>\n",
       "      <td>Chongqing</td>\n",
       "      <td>Mainland China</td>\n",
       "      <td>1/22/2020 17:00</td>\n",
       "      <td>6.0</td>\n",
       "      <td>NaN</td>\n",
       "      <td>NaN</td>\n",
       "      <td>01-22-2020</td>\n",
       "    </tr>\n",
       "    <tr>\n",
       "      <td>3</td>\n",
       "      <td>Fujian</td>\n",
       "      <td>Mainland China</td>\n",
       "      <td>1/22/2020 17:00</td>\n",
       "      <td>1.0</td>\n",
       "      <td>NaN</td>\n",
       "      <td>NaN</td>\n",
       "      <td>01-22-2020</td>\n",
       "    </tr>\n",
       "    <tr>\n",
       "      <td>4</td>\n",
       "      <td>Gansu</td>\n",
       "      <td>Mainland China</td>\n",
       "      <td>1/22/2020 17:00</td>\n",
       "      <td>NaN</td>\n",
       "      <td>NaN</td>\n",
       "      <td>NaN</td>\n",
       "      <td>01-22-2020</td>\n",
       "    </tr>\n",
       "  </tbody>\n",
       "</table>\n",
       "</div>"
      ],
      "text/plain": [
       "  Province/State  Country/Region      Last Update  Confirmed  Deaths  \\\n",
       "0          Anhui  Mainland China  1/22/2020 17:00        1.0     NaN   \n",
       "1        Beijing  Mainland China  1/22/2020 17:00       14.0     NaN   \n",
       "2      Chongqing  Mainland China  1/22/2020 17:00        6.0     NaN   \n",
       "3         Fujian  Mainland China  1/22/2020 17:00        1.0     NaN   \n",
       "4          Gansu  Mainland China  1/22/2020 17:00        NaN     NaN   \n",
       "\n",
       "   Recovered        Date  \n",
       "0        NaN  01-22-2020  \n",
       "1        NaN  01-22-2020  \n",
       "2        NaN  01-22-2020  \n",
       "3        NaN  01-22-2020  \n",
       "4        NaN  01-22-2020  "
      ]
     },
     "execution_count": 9,
     "metadata": {},
     "output_type": "execute_result"
    }
   ],
   "source": [
    "df_results_1.head()"
   ]
  },
  {
   "cell_type": "code",
   "execution_count": 10,
   "metadata": {},
   "outputs": [],
   "source": [
    "# Create a unique ID for each country\n",
    "# Different files have different names for the same Country\n",
    "df_data_1 = pd.merge(df_results_1, df_synonym, left_on='Country/Region', right_on='Synonym', how='left')"
   ]
  },
  {
   "cell_type": "code",
   "execution_count": 11,
   "metadata": {},
   "outputs": [
    {
     "data": {
      "text/html": [
       "<div>\n",
       "<style scoped>\n",
       "    .dataframe tbody tr th:only-of-type {\n",
       "        vertical-align: middle;\n",
       "    }\n",
       "\n",
       "    .dataframe tbody tr th {\n",
       "        vertical-align: top;\n",
       "    }\n",
       "\n",
       "    .dataframe thead th {\n",
       "        text-align: right;\n",
       "    }\n",
       "</style>\n",
       "<table border=\"1\" class=\"dataframe\">\n",
       "  <thead>\n",
       "    <tr style=\"text-align: right;\">\n",
       "      <th></th>\n",
       "      <th>Province/State</th>\n",
       "      <th>Country/Region</th>\n",
       "      <th>Last Update</th>\n",
       "      <th>Confirmed</th>\n",
       "      <th>Deaths</th>\n",
       "      <th>Recovered</th>\n",
       "      <th>Date</th>\n",
       "      <th>Country_Id</th>\n",
       "      <th>Synonym_Id</th>\n",
       "      <th>Synonym</th>\n",
       "    </tr>\n",
       "  </thead>\n",
       "  <tbody>\n",
       "  </tbody>\n",
       "</table>\n",
       "</div>"
      ],
      "text/plain": [
       "Empty DataFrame\n",
       "Columns: [Province/State, Country/Region, Last Update, Confirmed, Deaths, Recovered, Date, Country_Id, Synonym_Id, Synonym]\n",
       "Index: []"
      ]
     },
     "execution_count": 11,
     "metadata": {},
     "output_type": "execute_result"
    }
   ],
   "source": [
    "# Finding missing data\n",
    "missing_1 = df_data_1[df_data_1['Country_Id'].isnull()==True]\n",
    "missing_1"
   ]
  },
  {
   "cell_type": "code",
   "execution_count": 12,
   "metadata": {},
   "outputs": [],
   "source": [
    "# After including the missing data at synonym file, joing the new data with Country DB\n",
    "df_1 = pd.merge(df_data_1, df_country, left_on='Country_Id', right_on='Country_Id', how='inner')"
   ]
  },
  {
   "cell_type": "code",
   "execution_count": 13,
   "metadata": {},
   "outputs": [
    {
     "data": {
      "text/html": [
       "<div>\n",
       "<style scoped>\n",
       "    .dataframe tbody tr th:only-of-type {\n",
       "        vertical-align: middle;\n",
       "    }\n",
       "\n",
       "    .dataframe tbody tr th {\n",
       "        vertical-align: top;\n",
       "    }\n",
       "\n",
       "    .dataframe thead th {\n",
       "        text-align: right;\n",
       "    }\n",
       "</style>\n",
       "<table border=\"1\" class=\"dataframe\">\n",
       "  <thead>\n",
       "    <tr style=\"text-align: right;\">\n",
       "      <th></th>\n",
       "      <th>Province/State</th>\n",
       "      <th>Country/Region</th>\n",
       "      <th>Last Update</th>\n",
       "      <th>Confirmed</th>\n",
       "      <th>Deaths</th>\n",
       "      <th>Recovered</th>\n",
       "      <th>Date</th>\n",
       "      <th>Country_Id</th>\n",
       "      <th>Synonym_Id</th>\n",
       "      <th>Synonym</th>\n",
       "      <th>...</th>\n",
       "      <th>Lat</th>\n",
       "      <th>Lon</th>\n",
       "      <th>Population</th>\n",
       "      <th>ID_worldometers</th>\n",
       "      <th>Density(P/Km2)</th>\n",
       "      <th>Land Area(Km2)</th>\n",
       "      <th>Fert.Rate</th>\n",
       "      <th>Med.Age</th>\n",
       "      <th>UrbanPop</th>\n",
       "      <th>WorldShare</th>\n",
       "    </tr>\n",
       "  </thead>\n",
       "  <tbody>\n",
       "    <tr>\n",
       "      <td>0</td>\n",
       "      <td>Anhui</td>\n",
       "      <td>Mainland China</td>\n",
       "      <td>1/22/2020 17:00</td>\n",
       "      <td>1.0</td>\n",
       "      <td>NaN</td>\n",
       "      <td>NaN</td>\n",
       "      <td>01-22-2020</td>\n",
       "      <td>156</td>\n",
       "      <td>256</td>\n",
       "      <td>Mainland China</td>\n",
       "      <td>...</td>\n",
       "      <td>35.86166</td>\n",
       "      <td>104.195397</td>\n",
       "      <td>1.439324e+09</td>\n",
       "      <td>1.0</td>\n",
       "      <td>153.0</td>\n",
       "      <td>9388211.0</td>\n",
       "      <td>1.7</td>\n",
       "      <td>38.0</td>\n",
       "      <td>0.61</td>\n",
       "      <td>0.1847</td>\n",
       "    </tr>\n",
       "    <tr>\n",
       "      <td>1</td>\n",
       "      <td>Beijing</td>\n",
       "      <td>Mainland China</td>\n",
       "      <td>1/22/2020 17:00</td>\n",
       "      <td>14.0</td>\n",
       "      <td>NaN</td>\n",
       "      <td>NaN</td>\n",
       "      <td>01-22-2020</td>\n",
       "      <td>156</td>\n",
       "      <td>256</td>\n",
       "      <td>Mainland China</td>\n",
       "      <td>...</td>\n",
       "      <td>35.86166</td>\n",
       "      <td>104.195397</td>\n",
       "      <td>1.439324e+09</td>\n",
       "      <td>1.0</td>\n",
       "      <td>153.0</td>\n",
       "      <td>9388211.0</td>\n",
       "      <td>1.7</td>\n",
       "      <td>38.0</td>\n",
       "      <td>0.61</td>\n",
       "      <td>0.1847</td>\n",
       "    </tr>\n",
       "    <tr>\n",
       "      <td>2</td>\n",
       "      <td>Chongqing</td>\n",
       "      <td>Mainland China</td>\n",
       "      <td>1/22/2020 17:00</td>\n",
       "      <td>6.0</td>\n",
       "      <td>NaN</td>\n",
       "      <td>NaN</td>\n",
       "      <td>01-22-2020</td>\n",
       "      <td>156</td>\n",
       "      <td>256</td>\n",
       "      <td>Mainland China</td>\n",
       "      <td>...</td>\n",
       "      <td>35.86166</td>\n",
       "      <td>104.195397</td>\n",
       "      <td>1.439324e+09</td>\n",
       "      <td>1.0</td>\n",
       "      <td>153.0</td>\n",
       "      <td>9388211.0</td>\n",
       "      <td>1.7</td>\n",
       "      <td>38.0</td>\n",
       "      <td>0.61</td>\n",
       "      <td>0.1847</td>\n",
       "    </tr>\n",
       "    <tr>\n",
       "      <td>3</td>\n",
       "      <td>Fujian</td>\n",
       "      <td>Mainland China</td>\n",
       "      <td>1/22/2020 17:00</td>\n",
       "      <td>1.0</td>\n",
       "      <td>NaN</td>\n",
       "      <td>NaN</td>\n",
       "      <td>01-22-2020</td>\n",
       "      <td>156</td>\n",
       "      <td>256</td>\n",
       "      <td>Mainland China</td>\n",
       "      <td>...</td>\n",
       "      <td>35.86166</td>\n",
       "      <td>104.195397</td>\n",
       "      <td>1.439324e+09</td>\n",
       "      <td>1.0</td>\n",
       "      <td>153.0</td>\n",
       "      <td>9388211.0</td>\n",
       "      <td>1.7</td>\n",
       "      <td>38.0</td>\n",
       "      <td>0.61</td>\n",
       "      <td>0.1847</td>\n",
       "    </tr>\n",
       "    <tr>\n",
       "      <td>4</td>\n",
       "      <td>Gansu</td>\n",
       "      <td>Mainland China</td>\n",
       "      <td>1/22/2020 17:00</td>\n",
       "      <td>NaN</td>\n",
       "      <td>NaN</td>\n",
       "      <td>NaN</td>\n",
       "      <td>01-22-2020</td>\n",
       "      <td>156</td>\n",
       "      <td>256</td>\n",
       "      <td>Mainland China</td>\n",
       "      <td>...</td>\n",
       "      <td>35.86166</td>\n",
       "      <td>104.195397</td>\n",
       "      <td>1.439324e+09</td>\n",
       "      <td>1.0</td>\n",
       "      <td>153.0</td>\n",
       "      <td>9388211.0</td>\n",
       "      <td>1.7</td>\n",
       "      <td>38.0</td>\n",
       "      <td>0.61</td>\n",
       "      <td>0.1847</td>\n",
       "    </tr>\n",
       "  </tbody>\n",
       "</table>\n",
       "<p>5 rows × 24 columns</p>\n",
       "</div>"
      ],
      "text/plain": [
       "  Province/State  Country/Region      Last Update  Confirmed  Deaths  \\\n",
       "0          Anhui  Mainland China  1/22/2020 17:00        1.0     NaN   \n",
       "1        Beijing  Mainland China  1/22/2020 17:00       14.0     NaN   \n",
       "2      Chongqing  Mainland China  1/22/2020 17:00        6.0     NaN   \n",
       "3         Fujian  Mainland China  1/22/2020 17:00        1.0     NaN   \n",
       "4          Gansu  Mainland China  1/22/2020 17:00        NaN     NaN   \n",
       "\n",
       "   Recovered        Date  Country_Id  Synonym_Id         Synonym  ...  \\\n",
       "0        NaN  01-22-2020         156         256  Mainland China  ...   \n",
       "1        NaN  01-22-2020         156         256  Mainland China  ...   \n",
       "2        NaN  01-22-2020         156         256  Mainland China  ...   \n",
       "3        NaN  01-22-2020         156         256  Mainland China  ...   \n",
       "4        NaN  01-22-2020         156         256  Mainland China  ...   \n",
       "\n",
       "        Lat         Lon    Population ID_worldometers  Density(P/Km2)  \\\n",
       "0  35.86166  104.195397  1.439324e+09             1.0           153.0   \n",
       "1  35.86166  104.195397  1.439324e+09             1.0           153.0   \n",
       "2  35.86166  104.195397  1.439324e+09             1.0           153.0   \n",
       "3  35.86166  104.195397  1.439324e+09             1.0           153.0   \n",
       "4  35.86166  104.195397  1.439324e+09             1.0           153.0   \n",
       "\n",
       "   Land Area(Km2)  Fert.Rate  Med.Age  UrbanPop  WorldShare  \n",
       "0       9388211.0        1.7     38.0      0.61      0.1847  \n",
       "1       9388211.0        1.7     38.0      0.61      0.1847  \n",
       "2       9388211.0        1.7     38.0      0.61      0.1847  \n",
       "3       9388211.0        1.7     38.0      0.61      0.1847  \n",
       "4       9388211.0        1.7     38.0      0.61      0.1847  \n",
       "\n",
       "[5 rows x 24 columns]"
      ]
     },
     "execution_count": 13,
     "metadata": {},
     "output_type": "execute_result"
    }
   ],
   "source": [
    "df_1.head()"
   ]
  },
  {
   "cell_type": "code",
   "execution_count": 14,
   "metadata": {},
   "outputs": [
    {
     "data": {
      "text/plain": [
       "(2818, 24)"
      ]
     },
     "execution_count": 14,
     "metadata": {},
     "output_type": "execute_result"
    }
   ],
   "source": [
    "df_1.shape"
   ]
  },
  {
   "cell_type": "code",
   "execution_count": 15,
   "metadata": {},
   "outputs": [
    {
     "data": {
      "text/plain": [
       "Index(['Province/State', 'Country/Region', 'Last Update', 'Confirmed',\n",
       "       'Deaths', 'Recovered', 'Date', 'Country_Id', 'Synonym_Id', 'Synonym',\n",
       "       'ID', 'Name', 'ISO_2', 'ISO_3', 'Lat', 'Lon', 'Population',\n",
       "       'ID_worldometers', 'Density(P/Km2)', 'Land Area(Km2)', 'Fert.Rate',\n",
       "       'Med.Age', 'UrbanPop', 'WorldShare'],\n",
       "      dtype='object')"
      ]
     },
     "execution_count": 15,
     "metadata": {},
     "output_type": "execute_result"
    }
   ],
   "source": [
    "df_1.columns"
   ]
  },
  {
   "cell_type": "code",
   "execution_count": 16,
   "metadata": {},
   "outputs": [
    {
     "data": {
      "text/plain": [
       "Index(['ISO_CountryID', 'ISO_CountryName', 'Province_Synonym', 'Province_Id'], dtype='object')"
      ]
     },
     "execution_count": 16,
     "metadata": {},
     "output_type": "execute_result"
    }
   ],
   "source": [
    "df_province.columns"
   ]
  },
  {
   "cell_type": "code",
   "execution_count": 17,
   "metadata": {},
   "outputs": [],
   "source": [
    "# Create a unique ID for each Province/State\n",
    "# Different files have different names for the same Country\n",
    "df_1_p = pd.merge(df_1, df_province, left_on=['Country_Id', 'Province/State'],\n",
    "                       right_on=['ISO_CountryID','Province_Synonym'], how='left')"
   ]
  },
  {
   "cell_type": "code",
   "execution_count": 18,
   "metadata": {},
   "outputs": [
    {
     "data": {
      "text/html": [
       "<div>\n",
       "<style scoped>\n",
       "    .dataframe tbody tr th:only-of-type {\n",
       "        vertical-align: middle;\n",
       "    }\n",
       "\n",
       "    .dataframe tbody tr th {\n",
       "        vertical-align: top;\n",
       "    }\n",
       "\n",
       "    .dataframe thead th {\n",
       "        text-align: right;\n",
       "    }\n",
       "</style>\n",
       "<table border=\"1\" class=\"dataframe\">\n",
       "  <thead>\n",
       "    <tr style=\"text-align: right;\">\n",
       "      <th></th>\n",
       "      <th>Province/State</th>\n",
       "      <th>Country/Region</th>\n",
       "      <th>Last Update</th>\n",
       "      <th>Confirmed</th>\n",
       "      <th>Deaths</th>\n",
       "      <th>Recovered</th>\n",
       "      <th>Date</th>\n",
       "      <th>Country_Id</th>\n",
       "      <th>Synonym_Id</th>\n",
       "      <th>Synonym</th>\n",
       "      <th>...</th>\n",
       "      <th>Density(P/Km2)</th>\n",
       "      <th>Land Area(Km2)</th>\n",
       "      <th>Fert.Rate</th>\n",
       "      <th>Med.Age</th>\n",
       "      <th>UrbanPop</th>\n",
       "      <th>WorldShare</th>\n",
       "      <th>ISO_CountryID</th>\n",
       "      <th>ISO_CountryName</th>\n",
       "      <th>Province_Synonym</th>\n",
       "      <th>Province_Id</th>\n",
       "    </tr>\n",
       "  </thead>\n",
       "  <tbody>\n",
       "  </tbody>\n",
       "</table>\n",
       "<p>0 rows × 28 columns</p>\n",
       "</div>"
      ],
      "text/plain": [
       "Empty DataFrame\n",
       "Columns: [Province/State, Country/Region, Last Update, Confirmed, Deaths, Recovered, Date, Country_Id, Synonym_Id, Synonym, ID, Name, ISO_2, ISO_3, Lat, Lon, Population, ID_worldometers, Density(P/Km2), Land Area(Km2), Fert.Rate, Med.Age, UrbanPop, WorldShare, ISO_CountryID, ISO_CountryName, Province_Synonym, Province_Id]\n",
       "Index: []\n",
       "\n",
       "[0 rows x 28 columns]"
      ]
     },
     "execution_count": 18,
     "metadata": {},
     "output_type": "execute_result"
    }
   ],
   "source": [
    "# Finding missing data\n",
    "missing_1_p = df_1_p[df_1_p['Province_Id'].isnull()==True]\n",
    "missing_1_p"
   ]
  },
  {
   "cell_type": "code",
   "execution_count": 19,
   "metadata": {},
   "outputs": [
    {
     "data": {
      "text/plain": [
       "(2818, 28)"
      ]
     },
     "execution_count": 19,
     "metadata": {},
     "output_type": "execute_result"
    }
   ],
   "source": [
    "df_1_p.shape"
   ]
  },
  {
   "cell_type": "code",
   "execution_count": 20,
   "metadata": {},
   "outputs": [
    {
     "data": {
      "text/html": [
       "<div>\n",
       "<style scoped>\n",
       "    .dataframe tbody tr th:only-of-type {\n",
       "        vertical-align: middle;\n",
       "    }\n",
       "\n",
       "    .dataframe tbody tr th {\n",
       "        vertical-align: top;\n",
       "    }\n",
       "\n",
       "    .dataframe thead th {\n",
       "        text-align: right;\n",
       "    }\n",
       "</style>\n",
       "<table border=\"1\" class=\"dataframe\">\n",
       "  <thead>\n",
       "    <tr style=\"text-align: right;\">\n",
       "      <th></th>\n",
       "      <th>Province/State</th>\n",
       "      <th>Country/Region</th>\n",
       "      <th>Last Update</th>\n",
       "      <th>Confirmed</th>\n",
       "      <th>Deaths</th>\n",
       "      <th>Recovered</th>\n",
       "      <th>Date</th>\n",
       "      <th>Country_Id</th>\n",
       "      <th>Synonym_Id</th>\n",
       "      <th>Synonym</th>\n",
       "      <th>...</th>\n",
       "      <th>Density(P/Km2)</th>\n",
       "      <th>Land Area(Km2)</th>\n",
       "      <th>Fert.Rate</th>\n",
       "      <th>Med.Age</th>\n",
       "      <th>UrbanPop</th>\n",
       "      <th>WorldShare</th>\n",
       "      <th>ISO_CountryID</th>\n",
       "      <th>ISO_CountryName</th>\n",
       "      <th>Province_Synonym</th>\n",
       "      <th>Province_Id</th>\n",
       "    </tr>\n",
       "  </thead>\n",
       "  <tbody>\n",
       "    <tr>\n",
       "      <td>0</td>\n",
       "      <td>Anhui</td>\n",
       "      <td>Mainland China</td>\n",
       "      <td>1/22/2020 17:00</td>\n",
       "      <td>1.0</td>\n",
       "      <td>NaN</td>\n",
       "      <td>NaN</td>\n",
       "      <td>01-22-2020</td>\n",
       "      <td>156</td>\n",
       "      <td>256</td>\n",
       "      <td>Mainland China</td>\n",
       "      <td>...</td>\n",
       "      <td>153.0</td>\n",
       "      <td>9388211.0</td>\n",
       "      <td>1.7</td>\n",
       "      <td>38.0</td>\n",
       "      <td>0.61</td>\n",
       "      <td>0.1847</td>\n",
       "      <td>156</td>\n",
       "      <td>China</td>\n",
       "      <td>Anhui</td>\n",
       "      <td>156-8</td>\n",
       "    </tr>\n",
       "    <tr>\n",
       "      <td>1</td>\n",
       "      <td>Beijing</td>\n",
       "      <td>Mainland China</td>\n",
       "      <td>1/22/2020 17:00</td>\n",
       "      <td>14.0</td>\n",
       "      <td>NaN</td>\n",
       "      <td>NaN</td>\n",
       "      <td>01-22-2020</td>\n",
       "      <td>156</td>\n",
       "      <td>256</td>\n",
       "      <td>Mainland China</td>\n",
       "      <td>...</td>\n",
       "      <td>153.0</td>\n",
       "      <td>9388211.0</td>\n",
       "      <td>1.7</td>\n",
       "      <td>38.0</td>\n",
       "      <td>0.61</td>\n",
       "      <td>0.1847</td>\n",
       "      <td>156</td>\n",
       "      <td>China</td>\n",
       "      <td>Beijing</td>\n",
       "      <td>156-15</td>\n",
       "    </tr>\n",
       "    <tr>\n",
       "      <td>2</td>\n",
       "      <td>Chongqing</td>\n",
       "      <td>Mainland China</td>\n",
       "      <td>1/22/2020 17:00</td>\n",
       "      <td>6.0</td>\n",
       "      <td>NaN</td>\n",
       "      <td>NaN</td>\n",
       "      <td>01-22-2020</td>\n",
       "      <td>156</td>\n",
       "      <td>256</td>\n",
       "      <td>Mainland China</td>\n",
       "      <td>...</td>\n",
       "      <td>153.0</td>\n",
       "      <td>9388211.0</td>\n",
       "      <td>1.7</td>\n",
       "      <td>38.0</td>\n",
       "      <td>0.61</td>\n",
       "      <td>0.1847</td>\n",
       "      <td>156</td>\n",
       "      <td>China</td>\n",
       "      <td>Chongqing</td>\n",
       "      <td>156-35</td>\n",
       "    </tr>\n",
       "    <tr>\n",
       "      <td>3</td>\n",
       "      <td>Fujian</td>\n",
       "      <td>Mainland China</td>\n",
       "      <td>1/22/2020 17:00</td>\n",
       "      <td>1.0</td>\n",
       "      <td>NaN</td>\n",
       "      <td>NaN</td>\n",
       "      <td>01-22-2020</td>\n",
       "      <td>156</td>\n",
       "      <td>256</td>\n",
       "      <td>Mainland China</td>\n",
       "      <td>...</td>\n",
       "      <td>153.0</td>\n",
       "      <td>9388211.0</td>\n",
       "      <td>1.7</td>\n",
       "      <td>38.0</td>\n",
       "      <td>0.61</td>\n",
       "      <td>0.1847</td>\n",
       "      <td>156</td>\n",
       "      <td>China</td>\n",
       "      <td>Fujian</td>\n",
       "      <td>156-76</td>\n",
       "    </tr>\n",
       "    <tr>\n",
       "      <td>4</td>\n",
       "      <td>Gansu</td>\n",
       "      <td>Mainland China</td>\n",
       "      <td>1/22/2020 17:00</td>\n",
       "      <td>NaN</td>\n",
       "      <td>NaN</td>\n",
       "      <td>NaN</td>\n",
       "      <td>01-22-2020</td>\n",
       "      <td>156</td>\n",
       "      <td>256</td>\n",
       "      <td>Mainland China</td>\n",
       "      <td>...</td>\n",
       "      <td>153.0</td>\n",
       "      <td>9388211.0</td>\n",
       "      <td>1.7</td>\n",
       "      <td>38.0</td>\n",
       "      <td>0.61</td>\n",
       "      <td>0.1847</td>\n",
       "      <td>156</td>\n",
       "      <td>China</td>\n",
       "      <td>Gansu</td>\n",
       "      <td>156-78</td>\n",
       "    </tr>\n",
       "  </tbody>\n",
       "</table>\n",
       "<p>5 rows × 28 columns</p>\n",
       "</div>"
      ],
      "text/plain": [
       "  Province/State  Country/Region      Last Update  Confirmed  Deaths  \\\n",
       "0          Anhui  Mainland China  1/22/2020 17:00        1.0     NaN   \n",
       "1        Beijing  Mainland China  1/22/2020 17:00       14.0     NaN   \n",
       "2      Chongqing  Mainland China  1/22/2020 17:00        6.0     NaN   \n",
       "3         Fujian  Mainland China  1/22/2020 17:00        1.0     NaN   \n",
       "4          Gansu  Mainland China  1/22/2020 17:00        NaN     NaN   \n",
       "\n",
       "   Recovered        Date  Country_Id  Synonym_Id         Synonym  ...  \\\n",
       "0        NaN  01-22-2020         156         256  Mainland China  ...   \n",
       "1        NaN  01-22-2020         156         256  Mainland China  ...   \n",
       "2        NaN  01-22-2020         156         256  Mainland China  ...   \n",
       "3        NaN  01-22-2020         156         256  Mainland China  ...   \n",
       "4        NaN  01-22-2020         156         256  Mainland China  ...   \n",
       "\n",
       "   Density(P/Km2) Land Area(Km2) Fert.Rate Med.Age  UrbanPop  WorldShare  \\\n",
       "0           153.0      9388211.0       1.7    38.0      0.61      0.1847   \n",
       "1           153.0      9388211.0       1.7    38.0      0.61      0.1847   \n",
       "2           153.0      9388211.0       1.7    38.0      0.61      0.1847   \n",
       "3           153.0      9388211.0       1.7    38.0      0.61      0.1847   \n",
       "4           153.0      9388211.0       1.7    38.0      0.61      0.1847   \n",
       "\n",
       "   ISO_CountryID  ISO_CountryName  Province_Synonym  Province_Id  \n",
       "0            156            China             Anhui        156-8  \n",
       "1            156            China           Beijing       156-15  \n",
       "2            156            China         Chongqing       156-35  \n",
       "3            156            China            Fujian       156-76  \n",
       "4            156            China             Gansu       156-78  \n",
       "\n",
       "[5 rows x 28 columns]"
      ]
     },
     "execution_count": 20,
     "metadata": {},
     "output_type": "execute_result"
    }
   ],
   "source": [
    "df_1_p.head()"
   ]
  },
  {
   "cell_type": "code",
   "execution_count": 21,
   "metadata": {},
   "outputs": [],
   "source": [
    "#df_COVID19_1 = df_1[['Date','Country_Id', 'Country/Region', 'Name', 'Province/State',\n",
    "#                            'Last Update','Confirmed','Deaths','Recovered','ISO_2','ISO_3']]"
   ]
  },
  {
   "cell_type": "code",
   "execution_count": 22,
   "metadata": {},
   "outputs": [],
   "source": [
    "df_COVID19_1 = df_1_p[['Date','Country_Id', 'Country/Region', 'Name', 'Province_Id', 'Province/State',\n",
    "                            'Last Update','Confirmed','Deaths','Recovered','ISO_2','ISO_3']]"
   ]
  },
  {
   "cell_type": "code",
   "execution_count": 23,
   "metadata": {},
   "outputs": [
    {
     "data": {
      "text/plain": [
       "(2818, 12)"
      ]
     },
     "execution_count": 23,
     "metadata": {},
     "output_type": "execute_result"
    }
   ],
   "source": [
    "df_COVID19_1.shape"
   ]
  },
  {
   "cell_type": "code",
   "execution_count": 24,
   "metadata": {},
   "outputs": [],
   "source": [
    "df_COVID19_1 = df_COVID19_1.rename(columns={\"Name\": \"ISO_CountryName\", \"Country_Id\": \"ISO_CountryID\"})"
   ]
  },
  {
   "cell_type": "code",
   "execution_count": 25,
   "metadata": {},
   "outputs": [
    {
     "data": {
      "text/html": [
       "<div>\n",
       "<style scoped>\n",
       "    .dataframe tbody tr th:only-of-type {\n",
       "        vertical-align: middle;\n",
       "    }\n",
       "\n",
       "    .dataframe tbody tr th {\n",
       "        vertical-align: top;\n",
       "    }\n",
       "\n",
       "    .dataframe thead th {\n",
       "        text-align: right;\n",
       "    }\n",
       "</style>\n",
       "<table border=\"1\" class=\"dataframe\">\n",
       "  <thead>\n",
       "    <tr style=\"text-align: right;\">\n",
       "      <th></th>\n",
       "      <th>Date</th>\n",
       "      <th>ISO_CountryID</th>\n",
       "      <th>Country/Region</th>\n",
       "      <th>ISO_CountryName</th>\n",
       "      <th>Province_Id</th>\n",
       "      <th>Province/State</th>\n",
       "      <th>Last Update</th>\n",
       "      <th>Confirmed</th>\n",
       "      <th>Deaths</th>\n",
       "      <th>Recovered</th>\n",
       "      <th>ISO_2</th>\n",
       "      <th>ISO_3</th>\n",
       "    </tr>\n",
       "  </thead>\n",
       "  <tbody>\n",
       "    <tr>\n",
       "      <td>0</td>\n",
       "      <td>01-22-2020</td>\n",
       "      <td>156</td>\n",
       "      <td>Mainland China</td>\n",
       "      <td>China</td>\n",
       "      <td>156-8</td>\n",
       "      <td>Anhui</td>\n",
       "      <td>1/22/2020 17:00</td>\n",
       "      <td>1.0</td>\n",
       "      <td>NaN</td>\n",
       "      <td>NaN</td>\n",
       "      <td>CN</td>\n",
       "      <td>CHN</td>\n",
       "    </tr>\n",
       "    <tr>\n",
       "      <td>1</td>\n",
       "      <td>01-22-2020</td>\n",
       "      <td>156</td>\n",
       "      <td>Mainland China</td>\n",
       "      <td>China</td>\n",
       "      <td>156-15</td>\n",
       "      <td>Beijing</td>\n",
       "      <td>1/22/2020 17:00</td>\n",
       "      <td>14.0</td>\n",
       "      <td>NaN</td>\n",
       "      <td>NaN</td>\n",
       "      <td>CN</td>\n",
       "      <td>CHN</td>\n",
       "    </tr>\n",
       "    <tr>\n",
       "      <td>2</td>\n",
       "      <td>01-22-2020</td>\n",
       "      <td>156</td>\n",
       "      <td>Mainland China</td>\n",
       "      <td>China</td>\n",
       "      <td>156-35</td>\n",
       "      <td>Chongqing</td>\n",
       "      <td>1/22/2020 17:00</td>\n",
       "      <td>6.0</td>\n",
       "      <td>NaN</td>\n",
       "      <td>NaN</td>\n",
       "      <td>CN</td>\n",
       "      <td>CHN</td>\n",
       "    </tr>\n",
       "    <tr>\n",
       "      <td>3</td>\n",
       "      <td>01-22-2020</td>\n",
       "      <td>156</td>\n",
       "      <td>Mainland China</td>\n",
       "      <td>China</td>\n",
       "      <td>156-76</td>\n",
       "      <td>Fujian</td>\n",
       "      <td>1/22/2020 17:00</td>\n",
       "      <td>1.0</td>\n",
       "      <td>NaN</td>\n",
       "      <td>NaN</td>\n",
       "      <td>CN</td>\n",
       "      <td>CHN</td>\n",
       "    </tr>\n",
       "    <tr>\n",
       "      <td>4</td>\n",
       "      <td>01-22-2020</td>\n",
       "      <td>156</td>\n",
       "      <td>Mainland China</td>\n",
       "      <td>China</td>\n",
       "      <td>156-78</td>\n",
       "      <td>Gansu</td>\n",
       "      <td>1/22/2020 17:00</td>\n",
       "      <td>NaN</td>\n",
       "      <td>NaN</td>\n",
       "      <td>NaN</td>\n",
       "      <td>CN</td>\n",
       "      <td>CHN</td>\n",
       "    </tr>\n",
       "  </tbody>\n",
       "</table>\n",
       "</div>"
      ],
      "text/plain": [
       "         Date  ISO_CountryID  Country/Region ISO_CountryName Province_Id  \\\n",
       "0  01-22-2020            156  Mainland China           China       156-8   \n",
       "1  01-22-2020            156  Mainland China           China      156-15   \n",
       "2  01-22-2020            156  Mainland China           China      156-35   \n",
       "3  01-22-2020            156  Mainland China           China      156-76   \n",
       "4  01-22-2020            156  Mainland China           China      156-78   \n",
       "\n",
       "  Province/State      Last Update  Confirmed  Deaths  Recovered ISO_2 ISO_3  \n",
       "0          Anhui  1/22/2020 17:00        1.0     NaN        NaN    CN   CHN  \n",
       "1        Beijing  1/22/2020 17:00       14.0     NaN        NaN    CN   CHN  \n",
       "2      Chongqing  1/22/2020 17:00        6.0     NaN        NaN    CN   CHN  \n",
       "3         Fujian  1/22/2020 17:00        1.0     NaN        NaN    CN   CHN  \n",
       "4          Gansu  1/22/2020 17:00        NaN     NaN        NaN    CN   CHN  "
      ]
     },
     "execution_count": 25,
     "metadata": {},
     "output_type": "execute_result"
    }
   ],
   "source": [
    "df_COVID19_1.head()"
   ]
  },
  {
   "cell_type": "code",
   "execution_count": 26,
   "metadata": {},
   "outputs": [],
   "source": [
    "df_COVID19_1.to_csv('./Resources/Data/COVID19_2020_Jan_Feb.csv')"
   ]
  },
  {
   "cell_type": "code",
   "execution_count": null,
   "metadata": {},
   "outputs": [],
   "source": []
  },
  {
   "cell_type": "code",
   "execution_count": null,
   "metadata": {},
   "outputs": [],
   "source": []
  },
  {
   "cell_type": "code",
   "execution_count": 27,
   "metadata": {},
   "outputs": [],
   "source": [
    "baseFolder = './Resources/Data/2'"
   ]
  },
  {
   "cell_type": "code",
   "execution_count": 28,
   "metadata": {},
   "outputs": [],
   "source": [
    "df_list = []\n",
    "for root, dirs, files in os.walk(baseFolder):\n",
    "    for nm in files:\n",
    "        thefile = os.path.join(root, nm)\n",
    "        df = pd.read_csv(thefile)\n",
    "        df['Date'] = nm.split('.')[0]\n",
    "\n",
    "        df_list.append(df)\n",
    "\n",
    "df_results_2 = pd.concat(df_list)"
   ]
  },
  {
   "cell_type": "code",
   "execution_count": 29,
   "metadata": {},
   "outputs": [],
   "source": [
    "#df_results_2 = df_results_2.fillna(' ')"
   ]
  },
  {
   "cell_type": "code",
   "execution_count": 30,
   "metadata": {},
   "outputs": [
    {
     "data": {
      "text/html": [
       "<div>\n",
       "<style scoped>\n",
       "    .dataframe tbody tr th:only-of-type {\n",
       "        vertical-align: middle;\n",
       "    }\n",
       "\n",
       "    .dataframe tbody tr th {\n",
       "        vertical-align: top;\n",
       "    }\n",
       "\n",
       "    .dataframe thead th {\n",
       "        text-align: right;\n",
       "    }\n",
       "</style>\n",
       "<table border=\"1\" class=\"dataframe\">\n",
       "  <thead>\n",
       "    <tr style=\"text-align: right;\">\n",
       "      <th></th>\n",
       "      <th>Province/State</th>\n",
       "      <th>Country/Region</th>\n",
       "      <th>Last Update</th>\n",
       "      <th>Confirmed</th>\n",
       "      <th>Deaths</th>\n",
       "      <th>Recovered</th>\n",
       "      <th>Latitude</th>\n",
       "      <th>Longitude</th>\n",
       "      <th>Date</th>\n",
       "    </tr>\n",
       "  </thead>\n",
       "  <tbody>\n",
       "    <tr>\n",
       "      <td>0</td>\n",
       "      <td>Hubei</td>\n",
       "      <td>Mainland China</td>\n",
       "      <td>2020-03-01T10:13:19</td>\n",
       "      <td>66907</td>\n",
       "      <td>2761</td>\n",
       "      <td>31536</td>\n",
       "      <td>30.9756</td>\n",
       "      <td>112.2707</td>\n",
       "      <td>03-01-2020</td>\n",
       "    </tr>\n",
       "    <tr>\n",
       "      <td>1</td>\n",
       "      <td>NaN</td>\n",
       "      <td>South Korea</td>\n",
       "      <td>2020-03-01T23:43:03</td>\n",
       "      <td>3736</td>\n",
       "      <td>17</td>\n",
       "      <td>30</td>\n",
       "      <td>36.0000</td>\n",
       "      <td>128.0000</td>\n",
       "      <td>03-01-2020</td>\n",
       "    </tr>\n",
       "    <tr>\n",
       "      <td>2</td>\n",
       "      <td>NaN</td>\n",
       "      <td>Italy</td>\n",
       "      <td>2020-03-01T23:23:02</td>\n",
       "      <td>1694</td>\n",
       "      <td>34</td>\n",
       "      <td>83</td>\n",
       "      <td>43.0000</td>\n",
       "      <td>12.0000</td>\n",
       "      <td>03-01-2020</td>\n",
       "    </tr>\n",
       "    <tr>\n",
       "      <td>3</td>\n",
       "      <td>Guangdong</td>\n",
       "      <td>Mainland China</td>\n",
       "      <td>2020-03-01T14:13:18</td>\n",
       "      <td>1349</td>\n",
       "      <td>7</td>\n",
       "      <td>1016</td>\n",
       "      <td>23.3417</td>\n",
       "      <td>113.4244</td>\n",
       "      <td>03-01-2020</td>\n",
       "    </tr>\n",
       "    <tr>\n",
       "      <td>4</td>\n",
       "      <td>Henan</td>\n",
       "      <td>Mainland China</td>\n",
       "      <td>2020-03-01T14:13:18</td>\n",
       "      <td>1272</td>\n",
       "      <td>22</td>\n",
       "      <td>1198</td>\n",
       "      <td>33.8820</td>\n",
       "      <td>113.6140</td>\n",
       "      <td>03-01-2020</td>\n",
       "    </tr>\n",
       "  </tbody>\n",
       "</table>\n",
       "</div>"
      ],
      "text/plain": [
       "  Province/State  Country/Region          Last Update  Confirmed  Deaths  \\\n",
       "0          Hubei  Mainland China  2020-03-01T10:13:19      66907    2761   \n",
       "1            NaN     South Korea  2020-03-01T23:43:03       3736      17   \n",
       "2            NaN           Italy  2020-03-01T23:23:02       1694      34   \n",
       "3      Guangdong  Mainland China  2020-03-01T14:13:18       1349       7   \n",
       "4          Henan  Mainland China  2020-03-01T14:13:18       1272      22   \n",
       "\n",
       "   Recovered  Latitude  Longitude        Date  \n",
       "0      31536   30.9756   112.2707  03-01-2020  \n",
       "1         30   36.0000   128.0000  03-01-2020  \n",
       "2         83   43.0000    12.0000  03-01-2020  \n",
       "3       1016   23.3417   113.4244  03-01-2020  \n",
       "4       1198   33.8820   113.6140  03-01-2020  "
      ]
     },
     "execution_count": 30,
     "metadata": {},
     "output_type": "execute_result"
    }
   ],
   "source": [
    "df_results_2.head()"
   ]
  },
  {
   "cell_type": "code",
   "execution_count": 31,
   "metadata": {},
   "outputs": [],
   "source": [
    "df_data_2 = pd.merge(df_results_2, df_synonym, left_on='Country/Region', right_on='Synonym', how='left')"
   ]
  },
  {
   "cell_type": "code",
   "execution_count": 32,
   "metadata": {},
   "outputs": [
    {
     "data": {
      "text/plain": [
       "(5108, 12)"
      ]
     },
     "execution_count": 32,
     "metadata": {},
     "output_type": "execute_result"
    }
   ],
   "source": [
    "df_data_2.shape"
   ]
  },
  {
   "cell_type": "code",
   "execution_count": 33,
   "metadata": {},
   "outputs": [],
   "source": [
    "missing_2 = df_data_2[df_data_2['Country_Id'].isnull()==True]"
   ]
  },
  {
   "cell_type": "code",
   "execution_count": 34,
   "metadata": {},
   "outputs": [
    {
     "data": {
      "text/html": [
       "<div>\n",
       "<style scoped>\n",
       "    .dataframe tbody tr th:only-of-type {\n",
       "        vertical-align: middle;\n",
       "    }\n",
       "\n",
       "    .dataframe tbody tr th {\n",
       "        vertical-align: top;\n",
       "    }\n",
       "\n",
       "    .dataframe thead th {\n",
       "        text-align: right;\n",
       "    }\n",
       "</style>\n",
       "<table border=\"1\" class=\"dataframe\">\n",
       "  <thead>\n",
       "    <tr style=\"text-align: right;\">\n",
       "      <th></th>\n",
       "      <th>Province/State</th>\n",
       "      <th>Country/Region</th>\n",
       "      <th>Last Update</th>\n",
       "      <th>Confirmed</th>\n",
       "      <th>Deaths</th>\n",
       "      <th>Recovered</th>\n",
       "      <th>Latitude</th>\n",
       "      <th>Longitude</th>\n",
       "      <th>Date</th>\n",
       "      <th>Country_Id</th>\n",
       "      <th>Synonym_Id</th>\n",
       "      <th>Synonym</th>\n",
       "    </tr>\n",
       "  </thead>\n",
       "  <tbody>\n",
       "  </tbody>\n",
       "</table>\n",
       "</div>"
      ],
      "text/plain": [
       "Empty DataFrame\n",
       "Columns: [Province/State, Country/Region, Last Update, Confirmed, Deaths, Recovered, Latitude, Longitude, Date, Country_Id, Synonym_Id, Synonym]\n",
       "Index: []"
      ]
     },
     "execution_count": 34,
     "metadata": {},
     "output_type": "execute_result"
    }
   ],
   "source": [
    "missing_2"
   ]
  },
  {
   "cell_type": "code",
   "execution_count": 35,
   "metadata": {},
   "outputs": [],
   "source": [
    "df_2 = pd.merge(df_data_2, df_country, left_on='Country_Id', right_on='Country_Id', how='inner')"
   ]
  },
  {
   "cell_type": "code",
   "execution_count": 36,
   "metadata": {},
   "outputs": [
    {
     "data": {
      "text/plain": [
       "(5108, 26)"
      ]
     },
     "execution_count": 36,
     "metadata": {},
     "output_type": "execute_result"
    }
   ],
   "source": [
    "df_2.shape"
   ]
  },
  {
   "cell_type": "code",
   "execution_count": 37,
   "metadata": {},
   "outputs": [],
   "source": [
    "# Create a unique ID for each Province/State\n",
    "# Different files have different names for the same Country\n",
    "df_2_p = pd.merge(df_2, df_province, left_on=['Country_Id', 'Province/State'],\n",
    "                       right_on=['ISO_CountryID','Province_Synonym'], how='left')"
   ]
  },
  {
   "cell_type": "code",
   "execution_count": 38,
   "metadata": {},
   "outputs": [
    {
     "data": {
      "text/html": [
       "<div>\n",
       "<style scoped>\n",
       "    .dataframe tbody tr th:only-of-type {\n",
       "        vertical-align: middle;\n",
       "    }\n",
       "\n",
       "    .dataframe tbody tr th {\n",
       "        vertical-align: top;\n",
       "    }\n",
       "\n",
       "    .dataframe thead th {\n",
       "        text-align: right;\n",
       "    }\n",
       "</style>\n",
       "<table border=\"1\" class=\"dataframe\">\n",
       "  <thead>\n",
       "    <tr style=\"text-align: right;\">\n",
       "      <th></th>\n",
       "      <th>Province/State</th>\n",
       "      <th>Country/Region</th>\n",
       "      <th>Last Update</th>\n",
       "      <th>Confirmed</th>\n",
       "      <th>Deaths</th>\n",
       "      <th>Recovered</th>\n",
       "      <th>Latitude</th>\n",
       "      <th>Longitude</th>\n",
       "      <th>Date</th>\n",
       "      <th>Country_Id</th>\n",
       "      <th>...</th>\n",
       "      <th>Density(P/Km2)</th>\n",
       "      <th>Land Area(Km2)</th>\n",
       "      <th>Fert.Rate</th>\n",
       "      <th>Med.Age</th>\n",
       "      <th>UrbanPop</th>\n",
       "      <th>WorldShare</th>\n",
       "      <th>ISO_CountryID</th>\n",
       "      <th>ISO_CountryName</th>\n",
       "      <th>Province_Synonym</th>\n",
       "      <th>Province_Id</th>\n",
       "    </tr>\n",
       "  </thead>\n",
       "  <tbody>\n",
       "  </tbody>\n",
       "</table>\n",
       "<p>0 rows × 30 columns</p>\n",
       "</div>"
      ],
      "text/plain": [
       "Empty DataFrame\n",
       "Columns: [Province/State, Country/Region, Last Update, Confirmed, Deaths, Recovered, Latitude, Longitude, Date, Country_Id, Synonym_Id, Synonym, ID, Name, ISO_2, ISO_3, Lat, Lon, Population, ID_worldometers, Density(P/Km2), Land Area(Km2), Fert.Rate, Med.Age, UrbanPop, WorldShare, ISO_CountryID, ISO_CountryName, Province_Synonym, Province_Id]\n",
       "Index: []\n",
       "\n",
       "[0 rows x 30 columns]"
      ]
     },
     "execution_count": 38,
     "metadata": {},
     "output_type": "execute_result"
    }
   ],
   "source": [
    "# Finding missing data\n",
    "missing_2_p = df_2_p[df_2_p['Province_Id'].isnull()==True]\n",
    "missing_2_p"
   ]
  },
  {
   "cell_type": "code",
   "execution_count": 39,
   "metadata": {},
   "outputs": [
    {
     "data": {
      "text/plain": [
       "(5108, 30)"
      ]
     },
     "execution_count": 39,
     "metadata": {},
     "output_type": "execute_result"
    }
   ],
   "source": [
    "df_2_p.shape"
   ]
  },
  {
   "cell_type": "code",
   "execution_count": 40,
   "metadata": {},
   "outputs": [],
   "source": [
    "#df_COVID19 = df_2[['Date','Country_Id', 'Country/Region', 'Name', 'Province/State',\n",
    "#                   'Last Update','Confirmed','Deaths', 'Recovered','ISO_2','ISO_3','Latitude','Longitude']]"
   ]
  },
  {
   "cell_type": "code",
   "execution_count": 41,
   "metadata": {},
   "outputs": [],
   "source": [
    "df_COVID19 = df_2_p[['Date','Country_Id', 'Country/Region', 'Name', 'Province_Id', 'Province/State',\n",
    "                   'Last Update','Confirmed','Deaths', 'Recovered','ISO_2','ISO_3','Latitude','Longitude']]"
   ]
  },
  {
   "cell_type": "code",
   "execution_count": 42,
   "metadata": {},
   "outputs": [],
   "source": [
    "df_COVID19_2 = df_COVID19.rename(columns={\"Name\": \"ISO_CountryName\", \"Country_Id\": \"ISO_CountryID\"})"
   ]
  },
  {
   "cell_type": "code",
   "execution_count": 43,
   "metadata": {},
   "outputs": [
    {
     "data": {
      "text/html": [
       "<div>\n",
       "<style scoped>\n",
       "    .dataframe tbody tr th:only-of-type {\n",
       "        vertical-align: middle;\n",
       "    }\n",
       "\n",
       "    .dataframe tbody tr th {\n",
       "        vertical-align: top;\n",
       "    }\n",
       "\n",
       "    .dataframe thead th {\n",
       "        text-align: right;\n",
       "    }\n",
       "</style>\n",
       "<table border=\"1\" class=\"dataframe\">\n",
       "  <thead>\n",
       "    <tr style=\"text-align: right;\">\n",
       "      <th></th>\n",
       "      <th>Date</th>\n",
       "      <th>ISO_CountryID</th>\n",
       "      <th>Country/Region</th>\n",
       "      <th>ISO_CountryName</th>\n",
       "      <th>Province_Id</th>\n",
       "      <th>Province/State</th>\n",
       "      <th>Last Update</th>\n",
       "      <th>Confirmed</th>\n",
       "      <th>Deaths</th>\n",
       "      <th>Recovered</th>\n",
       "      <th>ISO_2</th>\n",
       "      <th>ISO_3</th>\n",
       "      <th>Latitude</th>\n",
       "      <th>Longitude</th>\n",
       "    </tr>\n",
       "  </thead>\n",
       "  <tbody>\n",
       "    <tr>\n",
       "      <td>0</td>\n",
       "      <td>03-01-2020</td>\n",
       "      <td>156</td>\n",
       "      <td>Mainland China</td>\n",
       "      <td>China</td>\n",
       "      <td>156-105</td>\n",
       "      <td>Hubei</td>\n",
       "      <td>2020-03-01T10:13:19</td>\n",
       "      <td>66907</td>\n",
       "      <td>2761</td>\n",
       "      <td>31536</td>\n",
       "      <td>CN</td>\n",
       "      <td>CHN</td>\n",
       "      <td>30.9756</td>\n",
       "      <td>112.2707</td>\n",
       "    </tr>\n",
       "    <tr>\n",
       "      <td>1</td>\n",
       "      <td>03-01-2020</td>\n",
       "      <td>156</td>\n",
       "      <td>Mainland China</td>\n",
       "      <td>China</td>\n",
       "      <td>156-89</td>\n",
       "      <td>Guangdong</td>\n",
       "      <td>2020-03-01T14:13:18</td>\n",
       "      <td>1349</td>\n",
       "      <td>7</td>\n",
       "      <td>1016</td>\n",
       "      <td>CN</td>\n",
       "      <td>CHN</td>\n",
       "      <td>23.3417</td>\n",
       "      <td>113.4244</td>\n",
       "    </tr>\n",
       "    <tr>\n",
       "      <td>2</td>\n",
       "      <td>03-01-2020</td>\n",
       "      <td>156</td>\n",
       "      <td>Mainland China</td>\n",
       "      <td>China</td>\n",
       "      <td>156-99</td>\n",
       "      <td>Henan</td>\n",
       "      <td>2020-03-01T14:13:18</td>\n",
       "      <td>1272</td>\n",
       "      <td>22</td>\n",
       "      <td>1198</td>\n",
       "      <td>CN</td>\n",
       "      <td>CHN</td>\n",
       "      <td>33.8820</td>\n",
       "      <td>113.6140</td>\n",
       "    </tr>\n",
       "    <tr>\n",
       "      <td>3</td>\n",
       "      <td>03-01-2020</td>\n",
       "      <td>156</td>\n",
       "      <td>Mainland China</td>\n",
       "      <td>China</td>\n",
       "      <td>156-297</td>\n",
       "      <td>Zhejiang</td>\n",
       "      <td>2020-03-01T10:13:33</td>\n",
       "      <td>1205</td>\n",
       "      <td>1</td>\n",
       "      <td>1046</td>\n",
       "      <td>CN</td>\n",
       "      <td>CHN</td>\n",
       "      <td>29.1832</td>\n",
       "      <td>120.0934</td>\n",
       "    </tr>\n",
       "    <tr>\n",
       "      <td>4</td>\n",
       "      <td>03-01-2020</td>\n",
       "      <td>156</td>\n",
       "      <td>Mainland China</td>\n",
       "      <td>China</td>\n",
       "      <td>156-108</td>\n",
       "      <td>Hunan</td>\n",
       "      <td>2020-03-01T10:03:03</td>\n",
       "      <td>1018</td>\n",
       "      <td>4</td>\n",
       "      <td>866</td>\n",
       "      <td>CN</td>\n",
       "      <td>CHN</td>\n",
       "      <td>27.6104</td>\n",
       "      <td>111.7088</td>\n",
       "    </tr>\n",
       "  </tbody>\n",
       "</table>\n",
       "</div>"
      ],
      "text/plain": [
       "         Date  ISO_CountryID  Country/Region ISO_CountryName Province_Id  \\\n",
       "0  03-01-2020            156  Mainland China           China     156-105   \n",
       "1  03-01-2020            156  Mainland China           China      156-89   \n",
       "2  03-01-2020            156  Mainland China           China      156-99   \n",
       "3  03-01-2020            156  Mainland China           China     156-297   \n",
       "4  03-01-2020            156  Mainland China           China     156-108   \n",
       "\n",
       "  Province/State          Last Update  Confirmed  Deaths  Recovered ISO_2  \\\n",
       "0          Hubei  2020-03-01T10:13:19      66907    2761      31536    CN   \n",
       "1      Guangdong  2020-03-01T14:13:18       1349       7       1016    CN   \n",
       "2          Henan  2020-03-01T14:13:18       1272      22       1198    CN   \n",
       "3       Zhejiang  2020-03-01T10:13:33       1205       1       1046    CN   \n",
       "4          Hunan  2020-03-01T10:03:03       1018       4        866    CN   \n",
       "\n",
       "  ISO_3  Latitude  Longitude  \n",
       "0   CHN   30.9756   112.2707  \n",
       "1   CHN   23.3417   113.4244  \n",
       "2   CHN   33.8820   113.6140  \n",
       "3   CHN   29.1832   120.0934  \n",
       "4   CHN   27.6104   111.7088  "
      ]
     },
     "execution_count": 43,
     "metadata": {},
     "output_type": "execute_result"
    }
   ],
   "source": [
    "df_COVID19_2.head()"
   ]
  },
  {
   "cell_type": "code",
   "execution_count": 44,
   "metadata": {},
   "outputs": [],
   "source": [
    "df_COVID19_2.to_csv('./Resources/Data/COVID19_2020_Mar.csv')"
   ]
  },
  {
   "cell_type": "code",
   "execution_count": null,
   "metadata": {},
   "outputs": [],
   "source": []
  },
  {
   "cell_type": "code",
   "execution_count": 45,
   "metadata": {},
   "outputs": [],
   "source": [
    "baseFolder = './Resources/Data/3'"
   ]
  },
  {
   "cell_type": "code",
   "execution_count": 46,
   "metadata": {},
   "outputs": [],
   "source": [
    "df_list = []\n",
    "for root, dirs, files in os.walk(baseFolder):\n",
    "    for nm in files:\n",
    "        thefile = os.path.join(root, nm)\n",
    "        df = pd.read_csv(thefile)\n",
    "        df['Date'] = nm.split('.')[0]\n",
    "\n",
    "        df_list.append(df)\n",
    "\n",
    "df_results_3 = pd.concat(df_list)"
   ]
  },
  {
   "cell_type": "code",
   "execution_count": 47,
   "metadata": {},
   "outputs": [],
   "source": [
    "df_results_3 = df_results_3.fillna(' ')\n",
    "df_province = df_province.fillna(' ')"
   ]
  },
  {
   "cell_type": "code",
   "execution_count": 48,
   "metadata": {},
   "outputs": [
    {
     "data": {
      "text/html": [
       "<div>\n",
       "<style scoped>\n",
       "    .dataframe tbody tr th:only-of-type {\n",
       "        vertical-align: middle;\n",
       "    }\n",
       "\n",
       "    .dataframe tbody tr th {\n",
       "        vertical-align: top;\n",
       "    }\n",
       "\n",
       "    .dataframe thead th {\n",
       "        text-align: right;\n",
       "    }\n",
       "</style>\n",
       "<table border=\"1\" class=\"dataframe\">\n",
       "  <thead>\n",
       "    <tr style=\"text-align: right;\">\n",
       "      <th></th>\n",
       "      <th>FIPS</th>\n",
       "      <th>Admin2</th>\n",
       "      <th>Province_State</th>\n",
       "      <th>Country_Region</th>\n",
       "      <th>Last_Update</th>\n",
       "      <th>Lat</th>\n",
       "      <th>Long_</th>\n",
       "      <th>Confirmed</th>\n",
       "      <th>Deaths</th>\n",
       "      <th>Recovered</th>\n",
       "      <th>Active</th>\n",
       "      <th>Combined_Key</th>\n",
       "      <th>Date</th>\n",
       "    </tr>\n",
       "  </thead>\n",
       "  <tbody>\n",
       "    <tr>\n",
       "      <td>0</td>\n",
       "      <td>45001</td>\n",
       "      <td>Abbeville</td>\n",
       "      <td>South Carolina</td>\n",
       "      <td>US</td>\n",
       "      <td>2020-03-23 23:19:34</td>\n",
       "      <td>34.223334</td>\n",
       "      <td>-82.461707</td>\n",
       "      <td>1</td>\n",
       "      <td>0</td>\n",
       "      <td>0</td>\n",
       "      <td>0</td>\n",
       "      <td>Abbeville, South Carolina, US</td>\n",
       "      <td>03-23-2020</td>\n",
       "    </tr>\n",
       "    <tr>\n",
       "      <td>1</td>\n",
       "      <td>22001</td>\n",
       "      <td>Acadia</td>\n",
       "      <td>Louisiana</td>\n",
       "      <td>US</td>\n",
       "      <td>2020-03-23 23:19:34</td>\n",
       "      <td>30.295065</td>\n",
       "      <td>-92.414197</td>\n",
       "      <td>1</td>\n",
       "      <td>0</td>\n",
       "      <td>0</td>\n",
       "      <td>0</td>\n",
       "      <td>Acadia, Louisiana, US</td>\n",
       "      <td>03-23-2020</td>\n",
       "    </tr>\n",
       "    <tr>\n",
       "      <td>2</td>\n",
       "      <td>51001</td>\n",
       "      <td>Accomack</td>\n",
       "      <td>Virginia</td>\n",
       "      <td>US</td>\n",
       "      <td>2020-03-23 23:19:34</td>\n",
       "      <td>37.767072</td>\n",
       "      <td>-75.632346</td>\n",
       "      <td>1</td>\n",
       "      <td>0</td>\n",
       "      <td>0</td>\n",
       "      <td>0</td>\n",
       "      <td>Accomack, Virginia, US</td>\n",
       "      <td>03-23-2020</td>\n",
       "    </tr>\n",
       "    <tr>\n",
       "      <td>3</td>\n",
       "      <td>16001</td>\n",
       "      <td>Ada</td>\n",
       "      <td>Idaho</td>\n",
       "      <td>US</td>\n",
       "      <td>2020-03-23 23:19:34</td>\n",
       "      <td>43.452658</td>\n",
       "      <td>-116.241552</td>\n",
       "      <td>13</td>\n",
       "      <td>0</td>\n",
       "      <td>0</td>\n",
       "      <td>0</td>\n",
       "      <td>Ada, Idaho, US</td>\n",
       "      <td>03-23-2020</td>\n",
       "    </tr>\n",
       "    <tr>\n",
       "      <td>4</td>\n",
       "      <td>19001</td>\n",
       "      <td>Adair</td>\n",
       "      <td>Iowa</td>\n",
       "      <td>US</td>\n",
       "      <td>2020-03-23 23:19:34</td>\n",
       "      <td>41.330756</td>\n",
       "      <td>-94.471059</td>\n",
       "      <td>1</td>\n",
       "      <td>0</td>\n",
       "      <td>0</td>\n",
       "      <td>0</td>\n",
       "      <td>Adair, Iowa, US</td>\n",
       "      <td>03-23-2020</td>\n",
       "    </tr>\n",
       "  </tbody>\n",
       "</table>\n",
       "</div>"
      ],
      "text/plain": [
       "    FIPS     Admin2  Province_State Country_Region          Last_Update  \\\n",
       "0  45001  Abbeville  South Carolina             US  2020-03-23 23:19:34   \n",
       "1  22001     Acadia       Louisiana             US  2020-03-23 23:19:34   \n",
       "2  51001   Accomack        Virginia             US  2020-03-23 23:19:34   \n",
       "3  16001        Ada           Idaho             US  2020-03-23 23:19:34   \n",
       "4  19001      Adair            Iowa             US  2020-03-23 23:19:34   \n",
       "\n",
       "         Lat       Long_  Confirmed  Deaths  Recovered  Active  \\\n",
       "0  34.223334  -82.461707          1       0          0       0   \n",
       "1  30.295065  -92.414197          1       0          0       0   \n",
       "2  37.767072  -75.632346          1       0          0       0   \n",
       "3  43.452658 -116.241552         13       0          0       0   \n",
       "4  41.330756  -94.471059          1       0          0       0   \n",
       "\n",
       "                    Combined_Key        Date  \n",
       "0  Abbeville, South Carolina, US  03-23-2020  \n",
       "1          Acadia, Louisiana, US  03-23-2020  \n",
       "2         Accomack, Virginia, US  03-23-2020  \n",
       "3                 Ada, Idaho, US  03-23-2020  \n",
       "4                Adair, Iowa, US  03-23-2020  "
      ]
     },
     "execution_count": 48,
     "metadata": {},
     "output_type": "execute_result"
    }
   ],
   "source": [
    "df_results_3.head()"
   ]
  },
  {
   "cell_type": "code",
   "execution_count": 49,
   "metadata": {},
   "outputs": [],
   "source": [
    "dfg_3 = df_results_3.groupby(['Date', 'Last_Update', 'Country_Region', 'Province_State']).agg({\n",
    "    'Confirmed' : 'sum',\n",
    "    'Deaths': 'sum',\n",
    "    'Recovered': 'sum'\n",
    "}).reset_index()"
   ]
  },
  {
   "cell_type": "code",
   "execution_count": 50,
   "metadata": {},
   "outputs": [],
   "source": [
    "dfg_NY = dfg_3[dfg_3['Province_State']=='New York']"
   ]
  },
  {
   "cell_type": "code",
   "execution_count": 51,
   "metadata": {},
   "outputs": [
    {
     "data": {
      "text/html": [
       "<div>\n",
       "<style scoped>\n",
       "    .dataframe tbody tr th:only-of-type {\n",
       "        vertical-align: middle;\n",
       "    }\n",
       "\n",
       "    .dataframe tbody tr th {\n",
       "        vertical-align: top;\n",
       "    }\n",
       "\n",
       "    .dataframe thead th {\n",
       "        text-align: right;\n",
       "    }\n",
       "</style>\n",
       "<table border=\"1\" class=\"dataframe\">\n",
       "  <thead>\n",
       "    <tr style=\"text-align: right;\">\n",
       "      <th></th>\n",
       "      <th>Date</th>\n",
       "      <th>Last_Update</th>\n",
       "      <th>Country_Region</th>\n",
       "      <th>Province_State</th>\n",
       "      <th>Confirmed</th>\n",
       "      <th>Deaths</th>\n",
       "      <th>Recovered</th>\n",
       "    </tr>\n",
       "  </thead>\n",
       "  <tbody>\n",
       "    <tr>\n",
       "      <td>252</td>\n",
       "      <td>03-23-2020</td>\n",
       "      <td>2020-03-23 23:19:34</td>\n",
       "      <td>US</td>\n",
       "      <td>New York</td>\n",
       "      <td>20884</td>\n",
       "      <td>158</td>\n",
       "      <td>0</td>\n",
       "    </tr>\n",
       "    <tr>\n",
       "      <td>549</td>\n",
       "      <td>03-24-2020</td>\n",
       "      <td>2020-03-24 23:37:31</td>\n",
       "      <td>US</td>\n",
       "      <td>New York</td>\n",
       "      <td>25681</td>\n",
       "      <td>210</td>\n",
       "      <td>0</td>\n",
       "    </tr>\n",
       "    <tr>\n",
       "      <td>852</td>\n",
       "      <td>03-25-2020</td>\n",
       "      <td>2020-03-25 23:33:19</td>\n",
       "      <td>US</td>\n",
       "      <td>New York</td>\n",
       "      <td>30841</td>\n",
       "      <td>285</td>\n",
       "      <td>0</td>\n",
       "    </tr>\n",
       "  </tbody>\n",
       "</table>\n",
       "</div>"
      ],
      "text/plain": [
       "           Date          Last_Update Country_Region Province_State  Confirmed  \\\n",
       "252  03-23-2020  2020-03-23 23:19:34             US       New York      20884   \n",
       "549  03-24-2020  2020-03-24 23:37:31             US       New York      25681   \n",
       "852  03-25-2020  2020-03-25 23:33:19             US       New York      30841   \n",
       "\n",
       "     Deaths  Recovered  \n",
       "252     158          0  \n",
       "549     210          0  \n",
       "852     285          0  "
      ]
     },
     "execution_count": 51,
     "metadata": {},
     "output_type": "execute_result"
    }
   ],
   "source": [
    "dfg_NY"
   ]
  },
  {
   "cell_type": "code",
   "execution_count": 52,
   "metadata": {},
   "outputs": [],
   "source": [
    "df_data_3 = pd.merge(dfg_3, df_synonym, left_on='Country_Region', right_on='Synonym', how='left')"
   ]
  },
  {
   "cell_type": "code",
   "execution_count": 53,
   "metadata": {},
   "outputs": [
    {
     "data": {
      "text/plain": [
       "(896, 10)"
      ]
     },
     "execution_count": 53,
     "metadata": {},
     "output_type": "execute_result"
    }
   ],
   "source": [
    "df_data_3.shape"
   ]
  },
  {
   "cell_type": "code",
   "execution_count": 54,
   "metadata": {},
   "outputs": [],
   "source": [
    "missing = df_data_3[df_data_3['Country_Id'].isnull()==True]"
   ]
  },
  {
   "cell_type": "code",
   "execution_count": 55,
   "metadata": {},
   "outputs": [
    {
     "data": {
      "text/html": [
       "<div>\n",
       "<style scoped>\n",
       "    .dataframe tbody tr th:only-of-type {\n",
       "        vertical-align: middle;\n",
       "    }\n",
       "\n",
       "    .dataframe tbody tr th {\n",
       "        vertical-align: top;\n",
       "    }\n",
       "\n",
       "    .dataframe thead th {\n",
       "        text-align: right;\n",
       "    }\n",
       "</style>\n",
       "<table border=\"1\" class=\"dataframe\">\n",
       "  <thead>\n",
       "    <tr style=\"text-align: right;\">\n",
       "      <th></th>\n",
       "      <th>Date</th>\n",
       "      <th>Last_Update</th>\n",
       "      <th>Country_Region</th>\n",
       "      <th>Province_State</th>\n",
       "      <th>Confirmed</th>\n",
       "      <th>Deaths</th>\n",
       "      <th>Recovered</th>\n",
       "      <th>Country_Id</th>\n",
       "      <th>Synonym_Id</th>\n",
       "      <th>Synonym</th>\n",
       "    </tr>\n",
       "  </thead>\n",
       "  <tbody>\n",
       "  </tbody>\n",
       "</table>\n",
       "</div>"
      ],
      "text/plain": [
       "Empty DataFrame\n",
       "Columns: [Date, Last_Update, Country_Region, Province_State, Confirmed, Deaths, Recovered, Country_Id, Synonym_Id, Synonym]\n",
       "Index: []"
      ]
     },
     "execution_count": 55,
     "metadata": {},
     "output_type": "execute_result"
    }
   ],
   "source": [
    "missing"
   ]
  },
  {
   "cell_type": "code",
   "execution_count": 56,
   "metadata": {},
   "outputs": [],
   "source": [
    "df_3 = pd.merge(df_data_3, df_country, left_on='Country_Id', right_on='Country_Id', how='inner')"
   ]
  },
  {
   "cell_type": "code",
   "execution_count": 57,
   "metadata": {},
   "outputs": [
    {
     "data": {
      "text/plain": [
       "(896, 24)"
      ]
     },
     "execution_count": 57,
     "metadata": {},
     "output_type": "execute_result"
    }
   ],
   "source": [
    "df_3.shape"
   ]
  },
  {
   "cell_type": "code",
   "execution_count": 58,
   "metadata": {},
   "outputs": [
    {
     "data": {
      "text/plain": [
       "Index(['Date', 'Last_Update', 'Country_Region', 'Province_State', 'Confirmed',\n",
       "       'Deaths', 'Recovered', 'Country_Id', 'Synonym_Id', 'Synonym', 'ID',\n",
       "       'Name', 'ISO_2', 'ISO_3', 'Lat', 'Lon', 'Population', 'ID_worldometers',\n",
       "       'Density(P/Km2)', 'Land Area(Km2)', 'Fert.Rate', 'Med.Age', 'UrbanPop',\n",
       "       'WorldShare'],\n",
       "      dtype='object')"
      ]
     },
     "execution_count": 58,
     "metadata": {},
     "output_type": "execute_result"
    }
   ],
   "source": [
    "df_3.columns"
   ]
  },
  {
   "cell_type": "code",
   "execution_count": null,
   "metadata": {},
   "outputs": [],
   "source": []
  },
  {
   "cell_type": "code",
   "execution_count": 59,
   "metadata": {},
   "outputs": [],
   "source": [
    "# Create a unique ID for each Province/State\n",
    "# Different files have different names for the same Country\n",
    "df_3_p = pd.merge(df_3, df_province, left_on=['Country_Id', 'Province_State'],\n",
    "                       right_on=['ISO_CountryID','Province_Synonym'], how='left')"
   ]
  },
  {
   "cell_type": "code",
   "execution_count": 60,
   "metadata": {},
   "outputs": [
    {
     "data": {
      "text/plain": [
       "(896, 28)"
      ]
     },
     "execution_count": 60,
     "metadata": {},
     "output_type": "execute_result"
    }
   ],
   "source": [
    "df_3_p.shape"
   ]
  },
  {
   "cell_type": "code",
   "execution_count": 61,
   "metadata": {},
   "outputs": [
    {
     "data": {
      "text/html": [
       "<div>\n",
       "<style scoped>\n",
       "    .dataframe tbody tr th:only-of-type {\n",
       "        vertical-align: middle;\n",
       "    }\n",
       "\n",
       "    .dataframe tbody tr th {\n",
       "        vertical-align: top;\n",
       "    }\n",
       "\n",
       "    .dataframe thead th {\n",
       "        text-align: right;\n",
       "    }\n",
       "</style>\n",
       "<table border=\"1\" class=\"dataframe\">\n",
       "  <thead>\n",
       "    <tr style=\"text-align: right;\">\n",
       "      <th></th>\n",
       "      <th>Date</th>\n",
       "      <th>Last_Update</th>\n",
       "      <th>Country_Region</th>\n",
       "      <th>Province_State</th>\n",
       "      <th>Confirmed</th>\n",
       "      <th>Deaths</th>\n",
       "      <th>Recovered</th>\n",
       "      <th>Country_Id</th>\n",
       "      <th>Synonym_Id</th>\n",
       "      <th>Synonym</th>\n",
       "      <th>...</th>\n",
       "      <th>Density(P/Km2)</th>\n",
       "      <th>Land Area(Km2)</th>\n",
       "      <th>Fert.Rate</th>\n",
       "      <th>Med.Age</th>\n",
       "      <th>UrbanPop</th>\n",
       "      <th>WorldShare</th>\n",
       "      <th>ISO_CountryID</th>\n",
       "      <th>ISO_CountryName</th>\n",
       "      <th>Province_Synonym</th>\n",
       "      <th>Province_Id</th>\n",
       "    </tr>\n",
       "  </thead>\n",
       "  <tbody>\n",
       "  </tbody>\n",
       "</table>\n",
       "<p>0 rows × 28 columns</p>\n",
       "</div>"
      ],
      "text/plain": [
       "Empty DataFrame\n",
       "Columns: [Date, Last_Update, Country_Region, Province_State, Confirmed, Deaths, Recovered, Country_Id, Synonym_Id, Synonym, ID, Name, ISO_2, ISO_3, Lat, Lon, Population, ID_worldometers, Density(P/Km2), Land Area(Km2), Fert.Rate, Med.Age, UrbanPop, WorldShare, ISO_CountryID, ISO_CountryName, Province_Synonym, Province_Id]\n",
       "Index: []\n",
       "\n",
       "[0 rows x 28 columns]"
      ]
     },
     "execution_count": 61,
     "metadata": {},
     "output_type": "execute_result"
    }
   ],
   "source": [
    "# Finding missing data\n",
    "missing_3_p = df_3_p[df_3_p['Province_Id'].isnull()==True]\n",
    "missing_3_p.head()"
   ]
  },
  {
   "cell_type": "code",
   "execution_count": null,
   "metadata": {},
   "outputs": [],
   "source": []
  },
  {
   "cell_type": "code",
   "execution_count": 62,
   "metadata": {},
   "outputs": [],
   "source": [
    "#df_COVID19 = df_3[['Date','Country_Id', 'Country_Region', 'Name','Province_State','Last_Update','Confirmed','Deaths',\n",
    "#'Recovered','ISO_2','ISO_3']]"
   ]
  },
  {
   "cell_type": "code",
   "execution_count": 63,
   "metadata": {},
   "outputs": [],
   "source": [
    "df_COVID19 = df_3_p[['Date','Country_Id', 'Country_Region', 'Name', 'Province_Id', 'Province_State',\n",
    "                     'Last_Update','Confirmed','Deaths', 'Recovered','ISO_2','ISO_3']]"
   ]
  },
  {
   "cell_type": "code",
   "execution_count": 64,
   "metadata": {},
   "outputs": [],
   "source": [
    "df_COVID19_3 = df_COVID19.rename(columns={\"Country_Region\": \"Country/Region\", \n",
    "                                          \"Name\": \"ISO_CountryName\", \n",
    "                                          \"Province_State\" : \"Province/State\",\n",
    "                                          \"Country_Id\": \"ISO_CountryID\",\n",
    "                                          \"Last_Update\": \"Last Update\"})"
   ]
  },
  {
   "cell_type": "code",
   "execution_count": null,
   "metadata": {},
   "outputs": [],
   "source": []
  },
  {
   "cell_type": "code",
   "execution_count": 65,
   "metadata": {},
   "outputs": [
    {
     "name": "stderr",
     "output_type": "stream",
     "text": [
      "c:\\users\\alessandra\\appdata\\local\\programs\\python\\python37-32\\lib\\site-packages\\ipykernel_launcher.py:1: FutureWarning: The join_axes-keyword is deprecated. Use .reindex or .reindex_like on the result to achieve the same functionality.\n",
      "  \"\"\"Entry point for launching an IPython kernel.\n"
     ]
    }
   ],
   "source": [
    "df_march = pd.concat([df_COVID19_2, df_COVID19_3], join_axes=[df_COVID19_2.columns])"
   ]
  },
  {
   "cell_type": "code",
   "execution_count": 66,
   "metadata": {},
   "outputs": [],
   "source": [
    "df_march.to_csv('./Resources/Data/COVID19_2020_Mar.csv')"
   ]
  },
  {
   "cell_type": "code",
   "execution_count": null,
   "metadata": {},
   "outputs": [],
   "source": []
  },
  {
   "cell_type": "code",
   "execution_count": null,
   "metadata": {},
   "outputs": [],
   "source": []
  },
  {
   "cell_type": "code",
   "execution_count": 67,
   "metadata": {},
   "outputs": [
    {
     "data": {
      "text/plain": [
       "(2818, 12)"
      ]
     },
     "execution_count": 67,
     "metadata": {},
     "output_type": "execute_result"
    }
   ],
   "source": [
    "df_COVID19_1.shape"
   ]
  },
  {
   "cell_type": "code",
   "execution_count": 68,
   "metadata": {},
   "outputs": [
    {
     "data": {
      "text/plain": [
       "Index(['Date', 'ISO_CountryID', 'Country/Region', 'ISO_CountryName',\n",
       "       'Province_Id', 'Province/State', 'Last Update', 'Confirmed', 'Deaths',\n",
       "       'Recovered', 'ISO_2', 'ISO_3'],\n",
       "      dtype='object')"
      ]
     },
     "execution_count": 68,
     "metadata": {},
     "output_type": "execute_result"
    }
   ],
   "source": [
    "df_COVID19_1.columns"
   ]
  },
  {
   "cell_type": "code",
   "execution_count": 69,
   "metadata": {},
   "outputs": [
    {
     "data": {
      "text/plain": [
       "(5108, 14)"
      ]
     },
     "execution_count": 69,
     "metadata": {},
     "output_type": "execute_result"
    }
   ],
   "source": [
    "df_COVID19_2.shape"
   ]
  },
  {
   "cell_type": "code",
   "execution_count": 70,
   "metadata": {},
   "outputs": [
    {
     "data": {
      "text/plain": [
       "Index(['Date', 'ISO_CountryID', 'Country/Region', 'ISO_CountryName',\n",
       "       'Province_Id', 'Province/State', 'Last Update', 'Confirmed', 'Deaths',\n",
       "       'Recovered', 'ISO_2', 'ISO_3', 'Latitude', 'Longitude'],\n",
       "      dtype='object')"
      ]
     },
     "execution_count": 70,
     "metadata": {},
     "output_type": "execute_result"
    }
   ],
   "source": [
    "df_COVID19_2.columns"
   ]
  },
  {
   "cell_type": "code",
   "execution_count": 71,
   "metadata": {},
   "outputs": [
    {
     "data": {
      "text/plain": [
       "(896, 12)"
      ]
     },
     "execution_count": 71,
     "metadata": {},
     "output_type": "execute_result"
    }
   ],
   "source": [
    "df_COVID19_3.shape"
   ]
  },
  {
   "cell_type": "code",
   "execution_count": 72,
   "metadata": {},
   "outputs": [
    {
     "data": {
      "text/plain": [
       "Index(['Date', 'ISO_CountryID', 'Country/Region', 'ISO_CountryName',\n",
       "       'Province_Id', 'Province/State', 'Last Update', 'Confirmed', 'Deaths',\n",
       "       'Recovered', 'ISO_2', 'ISO_3'],\n",
       "      dtype='object')"
      ]
     },
     "execution_count": 72,
     "metadata": {},
     "output_type": "execute_result"
    }
   ],
   "source": [
    "df_COVID19_3.columns"
   ]
  },
  {
   "cell_type": "code",
   "execution_count": 73,
   "metadata": {
    "scrolled": true
   },
   "outputs": [
    {
     "name": "stderr",
     "output_type": "stream",
     "text": [
      "c:\\users\\alessandra\\appdata\\local\\programs\\python\\python37-32\\lib\\site-packages\\ipykernel_launcher.py:1: FutureWarning: The join_axes-keyword is deprecated. Use .reindex or .reindex_like on the result to achieve the same functionality.\n",
      "  \"\"\"Entry point for launching an IPython kernel.\n"
     ]
    }
   ],
   "source": [
    "df_combined = pd.concat([df_COVID19_1, df_COVID19_2, df_COVID19_3], join_axes=[df_COVID19_2.columns])"
   ]
  },
  {
   "cell_type": "code",
   "execution_count": 74,
   "metadata": {},
   "outputs": [
    {
     "data": {
      "text/plain": [
       "(8822, 14)"
      ]
     },
     "execution_count": 74,
     "metadata": {},
     "output_type": "execute_result"
    }
   ],
   "source": [
    "df_combined.shape"
   ]
  },
  {
   "cell_type": "code",
   "execution_count": 75,
   "metadata": {},
   "outputs": [],
   "source": [
    "df_combined.to_csv('./Resources/Data/COVID19.csv')"
   ]
  },
  {
   "cell_type": "code",
   "execution_count": null,
   "metadata": {},
   "outputs": [],
   "source": []
  }
 ],
 "metadata": {
  "kernelspec": {
   "display_name": "Python 3",
   "language": "python",
   "name": "python3"
  },
  "language_info": {
   "codemirror_mode": {
    "name": "ipython",
    "version": 3
   },
   "file_extension": ".py",
   "mimetype": "text/x-python",
   "name": "python",
   "nbconvert_exporter": "python",
   "pygments_lexer": "ipython3",
   "version": "3.7.4"
  }
 },
 "nbformat": 4,
 "nbformat_minor": 2
}

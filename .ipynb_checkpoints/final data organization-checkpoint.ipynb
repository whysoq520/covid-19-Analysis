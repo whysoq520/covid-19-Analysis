{
 "cells": [
  {
   "cell_type": "code",
   "execution_count": 1,
   "metadata": {},
   "outputs": [],
   "source": [
    "import pandas as pd\n",
    "import numpy as np"
   ]
  },
  {
   "cell_type": "code",
   "execution_count": 2,
   "metadata": {},
   "outputs": [],
   "source": [
    "df = pd.read_csv('resources/finaldata.csv')"
   ]
  },
  {
   "cell_type": "code",
   "execution_count": 3,
   "metadata": {},
   "outputs": [
    {
     "data": {
      "text/html": [
       "<div>\n",
       "<style scoped>\n",
       "    .dataframe tbody tr th:only-of-type {\n",
       "        vertical-align: middle;\n",
       "    }\n",
       "\n",
       "    .dataframe tbody tr th {\n",
       "        vertical-align: top;\n",
       "    }\n",
       "\n",
       "    .dataframe thead th {\n",
       "        text-align: right;\n",
       "    }\n",
       "</style>\n",
       "<table border=\"1\" class=\"dataframe\">\n",
       "  <thead>\n",
       "    <tr style=\"text-align: right;\">\n",
       "      <th></th>\n",
       "      <th>Confirmed</th>\n",
       "      <th>Country_Region</th>\n",
       "      <th>Deaths</th>\n",
       "      <th>Last_Update</th>\n",
       "      <th>Latitude</th>\n",
       "      <th>Longitude</th>\n",
       "      <th>Province_State</th>\n",
       "      <th>Recovered</th>\n",
       "    </tr>\n",
       "  </thead>\n",
       "  <tbody>\n",
       "    <tr>\n",
       "      <td>0</td>\n",
       "      <td>1.0</td>\n",
       "      <td>China</td>\n",
       "      <td>0.0</td>\n",
       "      <td>1/22/2020 17:00</td>\n",
       "      <td>30.6007</td>\n",
       "      <td>117.9249</td>\n",
       "      <td>Anhui</td>\n",
       "      <td>0.0</td>\n",
       "    </tr>\n",
       "    <tr>\n",
       "      <td>1</td>\n",
       "      <td>14.0</td>\n",
       "      <td>China</td>\n",
       "      <td>0.0</td>\n",
       "      <td>1/22/2020 17:00</td>\n",
       "      <td>40.2374</td>\n",
       "      <td>116.2305</td>\n",
       "      <td>Beijing</td>\n",
       "      <td>0.0</td>\n",
       "    </tr>\n",
       "    <tr>\n",
       "      <td>2</td>\n",
       "      <td>6.0</td>\n",
       "      <td>China</td>\n",
       "      <td>0.0</td>\n",
       "      <td>1/22/2020 17:00</td>\n",
       "      <td>29.4316</td>\n",
       "      <td>106.9123</td>\n",
       "      <td>Chongqing</td>\n",
       "      <td>0.0</td>\n",
       "    </tr>\n",
       "    <tr>\n",
       "      <td>3</td>\n",
       "      <td>1.0</td>\n",
       "      <td>China</td>\n",
       "      <td>0.0</td>\n",
       "      <td>1/22/2020 17:00</td>\n",
       "      <td>26.4837</td>\n",
       "      <td>117.9249</td>\n",
       "      <td>Fujian</td>\n",
       "      <td>0.0</td>\n",
       "    </tr>\n",
       "    <tr>\n",
       "      <td>4</td>\n",
       "      <td>0.0</td>\n",
       "      <td>China</td>\n",
       "      <td>0.0</td>\n",
       "      <td>1/22/2020 17:00</td>\n",
       "      <td>35.7518</td>\n",
       "      <td>104.2861</td>\n",
       "      <td>Gansu</td>\n",
       "      <td>0.0</td>\n",
       "    </tr>\n",
       "  </tbody>\n",
       "</table>\n",
       "</div>"
      ],
      "text/plain": [
       "   Confirmed Country_Region  Deaths      Last_Update  Latitude  Longitude  \\\n",
       "0        1.0          China     0.0  1/22/2020 17:00   30.6007   117.9249   \n",
       "1       14.0          China     0.0  1/22/2020 17:00   40.2374   116.2305   \n",
       "2        6.0          China     0.0  1/22/2020 17:00   29.4316   106.9123   \n",
       "3        1.0          China     0.0  1/22/2020 17:00   26.4837   117.9249   \n",
       "4        0.0          China     0.0  1/22/2020 17:00   35.7518   104.2861   \n",
       "\n",
       "  Province_State  Recovered  \n",
       "0          Anhui        0.0  \n",
       "1        Beijing        0.0  \n",
       "2      Chongqing        0.0  \n",
       "3         Fujian        0.0  \n",
       "4          Gansu        0.0  "
      ]
     },
     "execution_count": 3,
     "metadata": {},
     "output_type": "execute_result"
    }
   ],
   "source": [
    "df.head()"
   ]
  },
  {
   "cell_type": "code",
   "execution_count": 4,
   "metadata": {},
   "outputs": [
    {
     "name": "stderr",
     "output_type": "stream",
     "text": [
      "C:\\Users\\super\\Anaconda3\\lib\\site-packages\\ipykernel_launcher.py:3: SettingWithCopyWarning: \n",
      "A value is trying to be set on a copy of a slice from a DataFrame\n",
      "\n",
      "See the caveats in the documentation: http://pandas.pydata.org/pandas-docs/stable/user_guide/indexing.html#returning-a-view-versus-a-copy\n",
      "  This is separate from the ipykernel package so we can avoid doing imports until\n"
     ]
    }
   ],
   "source": [
    "for x in range(len(df)):\n",
    "    if df['Country_Region'][x] == 'Mainland China':\n",
    "        df['Country_Region'][x] = \"China\"        "
   ]
  },
  {
   "cell_type": "code",
   "execution_count": 8,
   "metadata": {},
   "outputs": [],
   "source": [
    "values = {'Recovered': 0, 'Confirmed': 0, 'Deaths':0}\n",
    "data=df.fillna(value=values)"
   ]
  },
  {
   "cell_type": "code",
   "execution_count": 9,
   "metadata": {},
   "outputs": [],
   "source": [
    "#export to csv\n",
    "data.to_csv( \"../fdata.csv\", index=False, encoding='utf-8-sig')"
   ]
  }
 ],
 "metadata": {
  "kernelspec": {
   "display_name": "Python 3.7.4 64-bit ('super': virtualenv)",
   "language": "python",
   "name": "python37464bitsupervirtualenve687e24a3a4141a8b6a9e2b32ae60551"
  },
  "language_info": {
   "codemirror_mode": {
    "name": "ipython",
    "version": 3
   },
   "file_extension": ".py",
   "mimetype": "text/x-python",
   "name": "python",
   "nbconvert_exporter": "python",
   "pygments_lexer": "ipython3",
   "version": "3.7.4"
  }
 },
 "nbformat": 4,
 "nbformat_minor": 2
}
